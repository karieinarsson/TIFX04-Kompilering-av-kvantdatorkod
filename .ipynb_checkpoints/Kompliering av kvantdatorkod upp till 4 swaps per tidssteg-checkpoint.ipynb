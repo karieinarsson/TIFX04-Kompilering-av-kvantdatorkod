{
 "cells": [
  {
   "cell_type": "code",
   "execution_count": 1,
   "id": "9ea530d6",
   "metadata": {},
   "outputs": [
    {
     "name": "stdout",
     "output_type": "stream",
     "text": [
      "Defaulting to user installation because normal site-packages is not writeable\n",
      "Requirement already satisfied: gym in /home/surface/.local/lib/python3.8/site-packages (0.21.0)\n",
      "Requirement already satisfied: cloudpickle>=1.2.0 in /home/surface/.local/lib/python3.8/site-packages (from gym) (2.0.0)\n",
      "Requirement already satisfied: numpy>=1.18.0 in /home/surface/.local/lib/python3.8/site-packages (from gym) (1.18.5)\n"
     ]
    }
   ],
   "source": [
    "!pip install gym"
   ]
  },
  {
   "cell_type": "code",
   "execution_count": 2,
   "id": "afac425d",
   "metadata": {},
   "outputs": [],
   "source": [
    "from gym import Env\n",
    "from gym.spaces import Discrete, Box\n",
    "import numpy as np"
   ]
  },
  {
   "cell_type": "code",
   "execution_count": 3,
   "id": "eef263e0",
   "metadata": {},
   "outputs": [],
   "source": [
    "def swap(state, actions):\n",
    "    if type(actions[0]) != tuple:\n",
    "        actions = [actions]\n",
    "    for action in actions:\n",
    "        if action == (0, 1) or action == (1, 0): \n",
    "            row0, col0 = 0, 0\n",
    "            row1, col1 = 0, 1\n",
    "        elif action == (1, 2) or action == (2, 1):  \n",
    "            row0, col0 = 0, 2\n",
    "            row1, col1 = 0, 1\n",
    "        elif action == (0, 3) or action == (3, 0): \n",
    "            row0, col0 = 1, 0\n",
    "            row1, col1 = 0, 0\n",
    "        elif action == (4, 1) or action == (1, 4): \n",
    "            row0, col0 = 1, 1\n",
    "            row1, col1 = 0, 1\n",
    "        elif action == (2, 5) or action == (5, 2): \n",
    "            row0, col0 = 1, 2\n",
    "            row1, col1 = 0, 2\n",
    "        elif action == (3, 4) or action == (4, 3): \n",
    "            row0, col0 = 1, 1\n",
    "            row1, col1 = 1, 0\n",
    "        elif action == (4, 5) or action == (5, 4): \n",
    "            row0, col0 = 1, 2\n",
    "            row1, col1 = 1, 1\n",
    "        elif action == (3, 6) or action == (6, 3): \n",
    "            row0, col0 = 2, 0\n",
    "            row1, col1 = 1, 0\n",
    "        elif action == (4, 7) or action == (7, 4): \n",
    "            row0, col0 = 2, 1\n",
    "            row1, col1 = 1, 1\n",
    "        elif action == (5, 8) or action == (8, 5): \n",
    "            row0, col0 = 2, 2\n",
    "            row1, col1 = 1, 2\n",
    "        elif action == (7, 6) or action == (6, 7): \n",
    "            row0, col0 = 2, 1\n",
    "            row1, col1 = 2, 0\n",
    "        elif action == (7, 8) or action == (8, 7): \n",
    "            row0, col0 = 2, 2\n",
    "            row1, col1 = 2, 1\n",
    "        else:\n",
    "            return\n",
    "\n",
    "        #swap for all future states\n",
    "        for i in range(len(state)):\n",
    "            state[i][row0][col0], state[i][row1][col1] = state[i][row1][col1], state[i][row0][col0]"
   ]
  },
  {
   "cell_type": "code",
   "execution_count": 4,
   "id": "a9917c9e",
   "metadata": {},
   "outputs": [],
   "source": [
    "def getNeighbors(state, row_number, column_number):\n",
    "    a = [[state[i][j] if  i >= 0 and i < len(state) and j >= 0 and j < len(state[0]) else -1\n",
    "                    for j in range(column_number-1, column_number+2)]\n",
    "                        for i in range(row_number-1, row_number+2)]\n",
    "    return [a[0][1], a[1][0], a[1][2], a[2][1]]"
   ]
  },
  {
   "cell_type": "code",
   "execution_count": 5,
   "id": "4fad7168",
   "metadata": {},
   "outputs": [],
   "source": [
    "#                      [[1,0,0],\n",
    "#Takes in a state like  [1,0,2], and checks if the corresonding numbers are neighbors\n",
    "#                       [2,0,0]]\n",
    "\n",
    "def isExecutableState(state):\n",
    "    for row in range(len(state[0])):\n",
    "        for col in range(len(state[0][0])):\n",
    "            if state[0][row][col] > 0:\n",
    "                if not state[0][row][col] in getNeighbors(state[0], row, col):\n",
    "                    return False\n",
    "    #return bool\n",
    "    return True"
   ]
  },
  {
   "cell_type": "code",
   "execution_count": 6,
   "id": "7b13a3f9",
   "metadata": {},
   "outputs": [],
   "source": [
    "def getPossibleActions(depth=4):\n",
    "    state = np.arange(9).reshape((3,3))\n",
    "    \n",
    "    possibleActions = getPossibleActionsSub(state, [], depth)\n",
    "    \n",
    "    possibleActions = set(map(lambda x: tuple(sorted(x)), possibleActions ))\n",
    "    \n",
    "    possibleActions = list(possibleActions)\n",
    "    possibleActions.append((0, 0))\n",
    "    \n",
    "    return possibleActions\n",
    "    \n",
    "def getPossibleActionsSub(state, used, depth):\n",
    "    if depth == 0:\n",
    "        return np.asarray([])\n",
    "    \n",
    "    possibleActions = []\n",
    "    \n",
    "    for i in range(len(state)):\n",
    "        for j in range(len(state[0])):\n",
    "            \n",
    "            usedtmp = used.copy()\n",
    "            \n",
    "            if not state[i][j] in usedtmp:\n",
    "                neighbors = getNeighbors(state, i, j)\n",
    "                for neighbor in neighbors:\n",
    "                    if neighbor >= 0 and  not (neighbor, state[i][j]) in possibleActions and not neighbor in usedtmp:\n",
    "                        possibleActions.append((state[i][j], neighbor))\n",
    "                        usedtmp.append(state[i][j])\n",
    "                        usedtmp.append(neighbor)\n",
    " \n",
    "                        for action in getPossibleActionsSub(state, usedtmp, depth-1):\n",
    "                            if type(action) == tuple:\n",
    "                                possibleActions.append([(state[i][j], neighbor), action])\n",
    "                            elif type(action) == list:\n",
    "                                action.append((state[i][j], neighbor))\n",
    "                                possibleActions.append(action)\n",
    "                                \n",
    "        \n",
    "    return possibleActions"
   ]
  },
  {
   "cell_type": "code",
   "execution_count": 7,
   "id": "54b19075",
   "metadata": {
    "scrolled": false
   },
   "outputs": [
    {
     "name": "stdout",
     "output_type": "stream",
     "text": [
      "131\n",
      "<class 'tuple'>\n",
      "[[0. 1. 5.]\n",
      " [3. 4. 2.]\n",
      " [6. 7. 8.]]\n"
     ]
    }
   ],
   "source": [
    "state = np.zeros((10,3,3))\n",
    "for i in range(len(state)):\n",
    "    state[i] = np.arange(9).reshape((3,3))\n",
    "\n",
    "#print(state)\n",
    "\n",
    "possibleActions = getPossibleActions()\n",
    "print(len(possibleActions))\n",
    "#print(possibleActions)\n",
    "\n",
    "a = possibleActions[0]\n",
    "\n",
    "\n",
    "\n",
    "print(type(a[0]))\n",
    "\n",
    "statetmp = np.arange(9).reshape((3,3))\n",
    "\n",
    "swap(state, a[0])\n",
    "\n",
    "print(state[0])\n",
    "\n",
    "#for i in range(len(possibleActions)):\n",
    "#output = set(map(lambda x: tuple(sorted(x)),possibleActions))\n",
    "\n",
    "#print(len(output))"
   ]
  },
  {
   "cell_type": "markdown",
   "id": "b8ca4fda",
   "metadata": {},
   "source": [
    "testing of the functions isExecutableState and swap"
   ]
  },
  {
   "cell_type": "code",
   "execution_count": 8,
   "id": "c0d9a767",
   "metadata": {
    "scrolled": true
   },
   "outputs": [
    {
     "name": "stdout",
     "output_type": "stream",
     "text": [
      "[[0 1 2]\n",
      " [0 1 2]\n",
      " [0 0 0]]\n",
      "[[0 1 2]\n",
      " [0 1 2]\n",
      " [0 0 0]]\n",
      "True\n",
      "[[0 2 1]\n",
      " [0 1 2]\n",
      " [0 0 0]]\n",
      "[[0 2 1]\n",
      " [0 1 2]\n",
      " [0 0 0]]\n",
      "False\n",
      "[[0 2 1]\n",
      " [0 1 2]\n",
      " [0 0 0]]\n",
      "[[0 2 1]\n",
      " [0 1 2]\n",
      " [0 0 0]]\n",
      "False\n"
     ]
    }
   ],
   "source": [
    "arr = np.zeros((10,3,3), dtype=int)\n",
    "arr[0][0][1] = 1\n",
    "arr[0][0][2] = 2\n",
    "arr[0][1][1] = 1\n",
    "arr[0][1][2] = 2\n",
    "arr[1] = arr[0]\n",
    "\n",
    "print(arr[0])\n",
    "print(arr[1])\n",
    "print(isExecutableState(arr))\n",
    "\n",
    "swap(arr, (1, 2))\n",
    "print(arr[0])\n",
    "print(arr[1])\n",
    "print(isExecutableState(arr))\n",
    "\n",
    "swap(arr, (0, 0))\n",
    "print(arr[0])\n",
    "print(arr[1])\n",
    "print(isExecutableState(arr))"
   ]
  },
  {
   "cell_type": "code",
   "execution_count": 9,
   "id": "cb62eb70",
   "metadata": {},
   "outputs": [],
   "source": [
    "def makeStateSlice():\n",
    "    random = np.random.choice([3,5,7,9])\n",
    "    stateSlice = np.ceil(np.arange(random)/2)\n",
    "    stateSlice = np.append(stateSlice, np.zeros(9-random)).reshape((3,3))\n",
    "    np.random.shuffle(stateSlice)\n",
    "    return stateSlice"
   ]
  },
  {
   "cell_type": "code",
   "execution_count": 10,
   "id": "c49c3b4d",
   "metadata": {},
   "outputs": [],
   "source": [
    "def makeState():\n",
    "    state = np.zeros((10,3,3))\n",
    "    for i in range(len(state)):\n",
    "        state[i] = makeStateSlice()\n",
    "    return state"
   ]
  },
  {
   "cell_type": "markdown",
   "id": "25c6a18b",
   "metadata": {},
   "source": [
    "Test function makeState"
   ]
  },
  {
   "cell_type": "code",
   "execution_count": 30,
   "id": "e703db6a",
   "metadata": {
    "scrolled": false
   },
   "outputs": [
    {
     "data": {
      "text/plain": [
       "array([[[3., 0., 0.],\n",
       "        [0., 1., 1.],\n",
       "        [2., 2., 3.]],\n",
       "\n",
       "       [[3., 4., 4.],\n",
       "        [2., 2., 3.],\n",
       "        [0., 1., 1.]],\n",
       "\n",
       "       [[0., 1., 1.],\n",
       "        [2., 2., 3.],\n",
       "        [3., 4., 4.]],\n",
       "\n",
       "       [[3., 0., 0.],\n",
       "        [2., 2., 3.],\n",
       "        [0., 1., 1.]],\n",
       "\n",
       "       [[0., 0., 0.],\n",
       "        [0., 0., 0.],\n",
       "        [0., 1., 1.]],\n",
       "\n",
       "       [[0., 1., 1.],\n",
       "        [0., 0., 0.],\n",
       "        [0., 0., 0.]],\n",
       "\n",
       "       [[3., 0., 0.],\n",
       "        [0., 1., 1.],\n",
       "        [2., 2., 3.]],\n",
       "\n",
       "       [[0., 1., 1.],\n",
       "        [2., 2., 0.],\n",
       "        [0., 0., 0.]],\n",
       "\n",
       "       [[0., 0., 0.],\n",
       "        [0., 1., 1.],\n",
       "        [0., 0., 0.]],\n",
       "\n",
       "       [[2., 2., 3.],\n",
       "        [0., 1., 1.],\n",
       "        [3., 0., 0.]]])"
      ]
     },
     "execution_count": 30,
     "metadata": {},
     "output_type": "execute_result"
    }
   ],
   "source": [
    "makeState()"
   ]
  },
  {
   "cell_type": "code",
   "execution_count": 35,
   "id": "2799f385",
   "metadata": {},
   "outputs": [],
   "source": [
    "#Our enviorment\n",
    "class Kvant(Env):\n",
    "    def __init__(self):\n",
    "        #array of possible actions\n",
    "        self.possibleActions = getPossibleActions()\n",
    "        #self.possibleActions = getPossibleActions(1) #this for only 1 swap at a time\n",
    "        \n",
    "        #Number of actions we can take\n",
    "        self.action_space = Discrete(len(self.possibleActions))\n",
    "        \n",
    "        #\n",
    "        self.observation_space = Box(low=np.zeros((10,3,3), dtype=int), high=np.zeros((10,3,3), dtype=int)+4)\n",
    "        \n",
    "        #The start state\n",
    "        self.state = makeState()\n",
    "        \n",
    "        #max amount of swaps between layers\n",
    "        self.maxSwaps = 5\n",
    "        \n",
    "        #max amount of layers\n",
    "        self.maxLayers = 10\n",
    "        \n",
    "    def step(self, action):\n",
    "        \n",
    "        actions = self.possibleActions[action]\n",
    "\n",
    "        swap(self.state, actions)\n",
    "        \n",
    "        self.maxSwaps -= 1\n",
    "        \n",
    "        if isExecutableState(self.state):\n",
    "            \n",
    "            reward = 5\n",
    "            \n",
    "            self.maxSwaps = 5\n",
    "            self.state = np.roll(self.state, -1, axis = 0)\n",
    "            self.state[9] = makeStateSlice()\n",
    "            done = False\n",
    "            \n",
    "        elif self.maxSwaps <= 0:\n",
    "            done = True\n",
    "            reward = -1\n",
    "            \n",
    "        else:\n",
    "            done = False\n",
    "            reward = -1\n",
    "            \n",
    "        info = {}\n",
    "        \n",
    "        return self.state, reward, done, info\n",
    "        \n",
    "    def render(self):\n",
    "        pass\n",
    "    \n",
    "    def reset(self):\n",
    "        self.state = makeState()\n",
    "        self.maxSwaps = 5\n",
    "        return self.state"
   ]
  },
  {
   "cell_type": "code",
   "execution_count": 36,
   "id": "ae24433d",
   "metadata": {
    "scrolled": true
   },
   "outputs": [],
   "source": [
    "env = Kvant()"
   ]
  },
  {
   "cell_type": "code",
   "execution_count": 37,
   "id": "7b989b89",
   "metadata": {
    "scrolled": false
   },
   "outputs": [],
   "source": [
    "episodes = 1000\n",
    "scores = []\n",
    "for episode in range(1, episodes+1):\n",
    "    state = env.reset()\n",
    "    done = False\n",
    "    score = 0 \n",
    "    \n",
    "    while not done:\n",
    "        action = env.action_space.sample()\n",
    "        n_state, reward, done, info = env.step(action)\n",
    "        score+=reward\n",
    "    scores.append(score)"
   ]
  },
  {
   "cell_type": "code",
   "execution_count": 38,
   "id": "07588959",
   "metadata": {},
   "outputs": [
    {
     "name": "stdout",
     "output_type": "stream",
     "text": [
      "Number of -5 is 606\n",
      "Number of -4 is 14\n",
      "Number of -3 is 24\n",
      "Number of -2 is 28\n",
      "Number of -1 is 56\n",
      "Number of 0 is 133\n",
      "Number of 1 is 9\n",
      "Number of 2 is 13\n",
      "Number of 3 is 28\n",
      "Number of 4 is 24\n",
      "Number of 5 is 23\n",
      "Number of 6 is 6\n",
      "Number of 7 is 9\n",
      "Number of 8 is 1\n",
      "Number of 9 is 7\n",
      "Number of 10 is 6\n",
      "Number of 11 is 2\n",
      "Number of 12 is 3\n",
      "Number of 13 is 2\n",
      "Number of 14 is 3\n",
      "Number of 15 is 2\n",
      "Number of 31 is 1\n"
     ]
    }
   ],
   "source": [
    "for i in range(min(scores), max(scores)+1):\n",
    "    if scores.count(i) != 0:\n",
    "        print('Number of', i, 'is', scores.count(i))"
   ]
  },
  {
   "cell_type": "code",
   "execution_count": null,
   "id": "abec37b7",
   "metadata": {},
   "outputs": [],
   "source": []
  }
 ],
 "metadata": {
  "kernelspec": {
   "display_name": "Python 3 (ipykernel)",
   "language": "python",
   "name": "python3"
  },
  "language_info": {
   "codemirror_mode": {
    "name": "ipython",
    "version": 3
   },
   "file_extension": ".py",
   "mimetype": "text/x-python",
   "name": "python",
   "nbconvert_exporter": "python",
   "pygments_lexer": "ipython3",
   "version": "3.8.10"
  }
 },
 "nbformat": 4,
 "nbformat_minor": 5
}
