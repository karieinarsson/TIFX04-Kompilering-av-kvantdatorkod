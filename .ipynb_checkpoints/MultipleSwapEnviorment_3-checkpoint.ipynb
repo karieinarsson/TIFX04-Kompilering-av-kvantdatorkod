{
 "cells": [
  {
   "cell_type": "markdown",
   "id": "c233a331",
   "metadata": {},
   "source": [
    "# Pip install all needed packages"
   ]
  },
  {
   "cell_type": "code",
   "execution_count": 1,
   "id": "9ea530d6",
   "metadata": {
    "scrolled": false
   },
   "outputs": [
    {
     "name": "stdout",
     "output_type": "stream",
     "text": [
      "Defaulting to user installation because normal site-packages is not writeable\n",
      "Requirement already satisfied: gym in /home/surface/.local/lib/python3.8/site-packages (0.21.0)\n",
      "Requirement already satisfied: numpy>=1.18.0 in /home/surface/.local/lib/python3.8/site-packages (from gym) (1.18.5)\n",
      "Requirement already satisfied: cloudpickle>=1.2.0 in /home/surface/.local/lib/python3.8/site-packages (from gym) (2.0.0)\n"
     ]
    }
   ],
   "source": [
    "!pip install gym\n",
    "!pip install torch"
   ]
  },
  {
   "cell_type": "markdown",
   "id": "66b9ccec",
   "metadata": {},
   "source": [
    "# Imports"
   ]
  },
  {
   "cell_type": "code",
   "execution_count": 16,
   "id": "afac425d",
   "metadata": {},
   "outputs": [],
   "source": [
    "from gym import Env\n",
    "from gym.spaces import Discrete, Box\n",
    "import numpy as np\n",
    "import math\n",
    "\n",
    "import torch\n",
    "import torch.nn as nn\n",
    "import torch.optim as optim\n",
    "import torch.nn.functional as F\n",
    "import torchvision.transforms as T"
   ]
  },
  {
   "cell_type": "markdown",
   "id": "0fc17f30",
   "metadata": {},
   "source": [
    "# Global variables"
   ]
  },
  {
   "cell_type": "code",
   "execution_count": 25,
   "id": "bb5fbb1e",
   "metadata": {},
   "outputs": [],
   "source": [
    "depthOfCode = 10\n",
    "rows = 3\n",
    "cols = 3\n",
    "\n",
    "device = torch.device(\"cuda\" if torch.cuda.is_available() else \"cpu\")"
   ]
  },
  {
   "cell_type": "markdown",
   "id": "416222a3",
   "metadata": {},
   "source": [
    "# Functions"
   ]
  },
  {
   "cell_type": "code",
   "execution_count": 26,
   "id": "f6e0add5",
   "metadata": {},
   "outputs": [],
   "source": [
    "# swap is given actions which is a tuple of actions or a action, where every action is a tuple with the values\n",
    "# of two qubits (x, y) whos values should be swaped. x and y are ints between 0 and 8 corresponding to \n",
    "# the following qubit notation:\n",
    "#         [[0, 1, 2],\n",
    "#          [3, 4, 5],\n",
    "#          [6, 7, 8]]\n",
    "\n",
    "# ex. of a tuple of actions: ((0, 3), (4, 5), (7, 8))\n",
    "\n",
    "# ex. of a single action: (0, 1)\n",
    "\n",
    "# in the case of a single action we make a list out of it so it's iterable to minimize code\n",
    "def swap(state, actions):\n",
    "    if type(actions[0]) != tuple:\n",
    "        actions = [actions]\n",
    "    for action in actions:\n",
    "        pos0, pos1 = action\n",
    "        \n",
    "        col0 = pos0%cols\n",
    "        row0 = int((pos0-col0)/cols)  \n",
    "        col1 = pos1%cols\n",
    "        row1 = int((pos1-col1)/cols)\n",
    "        \n",
    "        for i in range(len(state)):\n",
    "            state[i][row0][col0], state[i][row1][col1] = state[i][row1][col1], state[i][row0][col0]\n"
   ]
  },
  {
   "cell_type": "code",
   "execution_count": 27,
   "id": "a9917c9e",
   "metadata": {},
   "outputs": [],
   "source": [
    "# getNeighbors returns a list of the qubit notations of all neighbors to a specific qubit. \n",
    "# I.e. qubits above, below, right and left of the specific qubit.\n",
    "\n",
    "def getNeighbors(state, row_number, column_number):\n",
    "    a = [[state[i][j] if  i >= 0 and i < len(state) and j >= 0 and j < len(state[0]) else -1\n",
    "                    for j in range(column_number-1, column_number+2)]\n",
    "                        for i in range(row_number-1, row_number+2)]\n",
    "    return [a[0][1], a[1][0], a[1][2], a[2][1]]"
   ]
  },
  {
   "cell_type": "code",
   "execution_count": 28,
   "id": "4fad7168",
   "metadata": {},
   "outputs": [],
   "source": [
    "#                         [[1,0,0], [[1,0,0],   [[1,0,0],         [[1,0,0],  \n",
    "# Takes in a state like [  [1,0,2],  [1,0,2], ,  [1,0,2], , ... ,  [1,0,2], ] and checks if all the pairs of \n",
    "#                          [2,0,0]]  [2,0,0]]    [2,0,0]]          [2,0,0]] \n",
    "# numbers in the first slice are neighbors and if so returns True else returns False\n",
    "\n",
    "def isExecutableState(state):\n",
    "    for row in range(len(state[0])):\n",
    "        for col in range(len(state[0][0])):\n",
    "            if state[0][row][col] > 0:\n",
    "                if not state[0][row][col] in getNeighbors(state[0], row, col):\n",
    "                    return False\n",
    "\n",
    "    return True"
   ]
  },
  {
   "cell_type": "code",
   "execution_count": 29,
   "id": "7b13a3f9",
   "metadata": {},
   "outputs": [],
   "source": [
    "# We use this once to get all the different swap combinations. I.e. all acceptable combinations of one to four\n",
    "# swaps. This are the different actions we cound make in one timestep.\n",
    "\n",
    "def getPossibleActions(maxSwapsPerTimeStep=math.floor(rows*cols/2)):\n",
    "    state = np.arange(rows*cols).reshape((rows,cols))\n",
    "    \n",
    "    possibleActions = getPossibleActionsSub(state, [], maxSwapsPerTimeStep)\n",
    "    \n",
    "    possibleActions = set(map(lambda x: tuple(sorted(x)), possibleActions ))\n",
    "    \n",
    "    possibleActions = list(possibleActions)\n",
    "    possibleActions.append((0, 0))\n",
    "    \n",
    "    return possibleActions\n",
    "    \n",
    "def getPossibleActionsSub(state, used, maxSwapsPerTimeStep):\n",
    "    if maxSwapsPerTimeStep == 0:\n",
    "        return np.asarray([])\n",
    "    \n",
    "    possibleActions = []\n",
    "    \n",
    "    for i in range(len(state)):\n",
    "        for j in range(len(state[0])):\n",
    "            \n",
    "            usedtmp = used.copy()\n",
    "            \n",
    "            if not state[i][j] in usedtmp:\n",
    "                neighbors = getNeighbors(state, i, j)\n",
    "                for neighbor in neighbors:\n",
    "                    if neighbor >= 0 and not (neighbor, state[i][j]) in possibleActions and not neighbor in usedtmp:\n",
    "                        possibleActions.append((state[i][j], neighbor))\n",
    "                        usedtmp.append(state[i][j])\n",
    "                        usedtmp.append(neighbor)\n",
    " \n",
    "                        for action in getPossibleActionsSub(state, usedtmp, maxSwapsPerTimeStep-1):\n",
    "                            if type(action) == tuple:\n",
    "                                possibleActions.append([(state[i][j], neighbor), action])\n",
    "                            elif type(action) == list:\n",
    "                                action.append((state[i][j], neighbor))\n",
    "                                possibleActions.append(action)\n",
    "                                \n",
    "        \n",
    "    return possibleActions"
   ]
  },
  {
   "cell_type": "code",
   "execution_count": 30,
   "id": "cb62eb70",
   "metadata": {},
   "outputs": [],
   "source": [
    "# Creates a shuffled Matrix simulatinga slice of quantum code with one to max amount \n",
    "# of operations per timestep\n",
    "\n",
    "# Ex1. [[0, 1, 0],\n",
    "#       [1, 2, 2],\n",
    "#       [3, 0, 3]]\n",
    "\n",
    "# Ex2. [[2, 1],\n",
    "#       [2, 1]]\n",
    "\n",
    "def makeStateSlice():\n",
    "    random = np.random.choice([x for x in range(2, rows*cols+2) if x % 2])\n",
    "    stateSlice = np.ceil(np.arange(1, random)/2)\n",
    "    stateSlice = np.append(stateSlice, np.zeros(rows*cols-random+1))\n",
    "    np.random.shuffle(stateSlice)\n",
    "    return stateSlice.reshape((rows,cols))"
   ]
  },
  {
   "cell_type": "code",
   "execution_count": 31,
   "id": "c49c3b4d",
   "metadata": {},
   "outputs": [],
   "source": [
    "# Makes a state out of depthOfCode amount of slices\n",
    "def makeState():\n",
    "    state = np.zeros((depthOfCode,rows,cols))\n",
    "    for i in range(len(state)):\n",
    "        state[i] = makeStateSlice()\n",
    "    return state"
   ]
  },
  {
   "cell_type": "markdown",
   "id": "8ed68fd9",
   "metadata": {},
   "source": [
    "# Tests some of the functions"
   ]
  },
  {
   "cell_type": "code",
   "execution_count": 32,
   "id": "54b19075",
   "metadata": {
    "scrolled": false
   },
   "outputs": [
    {
     "name": "stdout",
     "output_type": "stream",
     "text": [
      "131\n",
      "((2, 5), (7, 8))\n",
      "[[0. 1. 5.]\n",
      " [3. 4. 2.]\n",
      " [6. 8. 7.]]\n"
     ]
    }
   ],
   "source": [
    "state = np.zeros((depthOfCode,rows,cols))\n",
    "for i in range(len(state)):\n",
    "    state[i] = np.arange(rows*cols).reshape((rows,cols))\n",
    "\n",
    "#print(state)\n",
    "\n",
    "possibleActions = getPossibleActions()\n",
    "print(len(possibleActions))\n",
    "#print(possibleActions)\n",
    "\n",
    "a = possibleActions[0]\n",
    "\n",
    "print(a)\n",
    "\n",
    "statetmp = np.arange(rows*cols).reshape((rows,cols))\n",
    "\n",
    "swap(state, a)\n",
    "\n",
    "print(state[0])\n",
    "\n",
    "#for i in range(len(possibleActions)):\n",
    "#output = set(map(lambda x: tuple(sorted(x)),possibleActions))\n",
    "\n",
    "#print(len(output))"
   ]
  },
  {
   "cell_type": "markdown",
   "id": "25c6a18b",
   "metadata": {},
   "source": [
    "Test function makeState"
   ]
  },
  {
   "cell_type": "code",
   "execution_count": 33,
   "id": "e703db6a",
   "metadata": {
    "scrolled": false
   },
   "outputs": [
    {
     "name": "stdout",
     "output_type": "stream",
     "text": [
      "[[[4. 2. 1.]\n",
      "  [1. 0. 3.]\n",
      "  [3. 2. 4.]]\n",
      "\n",
      " [[3. 4. 1.]\n",
      "  [2. 0. 1.]\n",
      "  [2. 4. 3.]]\n",
      "\n",
      " [[1. 0. 0.]\n",
      "  [3. 0. 2.]\n",
      "  [2. 1. 3.]]\n",
      "\n",
      " [[0. 1. 0.]\n",
      "  [0. 0. 0.]\n",
      "  [0. 1. 0.]]\n",
      "\n",
      " [[0. 1. 1.]\n",
      "  [3. 2. 4.]\n",
      "  [3. 2. 4.]]\n",
      "\n",
      " [[1. 0. 2.]\n",
      "  [2. 3. 0.]\n",
      "  [1. 0. 3.]]\n",
      "\n",
      " [[0. 0. 0.]\n",
      "  [0. 1. 0.]\n",
      "  [0. 1. 0.]]\n",
      "\n",
      " [[2. 1. 2.]\n",
      "  [0. 3. 1.]\n",
      "  [0. 0. 3.]]\n",
      "\n",
      " [[1. 3. 2.]\n",
      "  [2. 4. 4.]\n",
      "  [1. 3. 0.]]\n",
      "\n",
      " [[1. 3. 0.]\n",
      "  [2. 0. 1.]\n",
      "  [2. 0. 3.]]]\n"
     ]
    }
   ],
   "source": [
    "print(makeState())"
   ]
  },
  {
   "cell_type": "markdown",
   "id": "47d76067",
   "metadata": {},
   "source": [
    "# Enviotment definition and sub functions"
   ]
  },
  {
   "cell_type": "code",
   "execution_count": 34,
   "id": "2799f385",
   "metadata": {},
   "outputs": [],
   "source": [
    "#Our enviorment\n",
    "class Kvant(Env):\n",
    "    def __init__(self):\n",
    "        #array of possible actions\n",
    "        self.possibleActions = getPossibleActions()\n",
    "        #self.possibleActions = getPossibleActions(1) #this for only 1 swap at a time\n",
    "        \n",
    "        #Number of actions we can take\n",
    "        self.action_space = Discrete(len(self.possibleActions))\n",
    "        \n",
    "        #\n",
    "        self.observation_space = Box(low=np.zeros((depthOfCode,rows,cols), dtype=int), high=np.zeros((depthOfCode,rows,cols), dtype=int)+4)\n",
    "        \n",
    "        #The start state\n",
    "        self.state = makeState()\n",
    "        \n",
    "        #max amount of swaps between layers\n",
    "        #self.maxTimeSteps = 5\n",
    "        \n",
    "        #max amount of layers per episode\n",
    "        self.maxLayers = depthOfCode\n",
    "        \n",
    "    def step(self, action):\n",
    "        \n",
    "        actions = self.possibleActions[action]\n",
    "\n",
    "        swap(self.state, actions)\n",
    "         \n",
    "        if isExecutableState(self.state):\n",
    "            # reset the maxSwaps to 5\n",
    "            self.maxTimeSteps = 5\n",
    "            \n",
    "            # remove the exicutable slice and add a new random slice at the tail\n",
    "            self.state = np.roll(self.state, -1, axis = 0)\n",
    "            self.state[depthOfCode - 1] = makeStateSlice()\n",
    "            \n",
    "            self.maxLayers -= 1\n",
    "            \n",
    "            # we are not done except if this was the last layer we can work on this episode\n",
    "            if self.maxLayers <= 0:\n",
    "                done = True\n",
    "            else:\n",
    "                done = False\n",
    "            \n",
    "        else:\n",
    "            done = False\n",
    "        \n",
    "        # Rewards \n",
    "        if actions == (0,0):\n",
    "            reward = 0\n",
    "        \n",
    "        else:\n",
    "            reward = -1\n",
    "        \n",
    "        info = {}\n",
    "        \n",
    "        return self.state, reward, done, info\n",
    "        \n",
    "    def render(self):\n",
    "        pass\n",
    "    \n",
    "    def reset(self):\n",
    "        self.state = makeState()\n",
    "        #self.maxTimeSteps = 5\n",
    "        self.maxLayers = 10\n",
    "        return self.state"
   ]
  },
  {
   "cell_type": "markdown",
   "id": "a6d0eba7",
   "metadata": {},
   "source": [
    "# Testing the enviorment"
   ]
  },
  {
   "cell_type": "code",
   "execution_count": 35,
   "id": "ec9c864f",
   "metadata": {},
   "outputs": [],
   "source": [
    "env = Kvant()"
   ]
  },
  {
   "cell_type": "markdown",
   "id": "ebcf4571",
   "metadata": {},
   "source": [
    "## test just random actions"
   ]
  },
  {
   "cell_type": "code",
   "execution_count": 38,
   "id": "7b989b89",
   "metadata": {
    "scrolled": false
   },
   "outputs": [],
   "source": [
    "episodes = 100\n",
    "scores = []\n",
    "for episode in range(1, episodes+1):\n",
    "    state = env.reset()\n",
    "    done = False\n",
    "    score = 0 \n",
    "    \n",
    "    while not done:\n",
    "        action = env.action_space.sample()\n",
    "        n_state, reward, done, info = env.step(action)\n",
    "        score+=reward\n",
    "    scores.append(score)"
   ]
  },
  {
   "cell_type": "code",
   "execution_count": 39,
   "id": "07588959",
   "metadata": {
    "scrolled": false
   },
   "outputs": [
    {
     "name": "stdout",
     "output_type": "stream",
     "text": [
      "Number of -551 is 1\n",
      "Number of -550 is 1\n",
      "Number of -545 is 1\n",
      "Number of -523 is 1\n",
      "Number of -515 is 1\n",
      "Number of -514 is 1\n",
      "Number of -512 is 1\n",
      "Number of -473 is 1\n",
      "Number of -466 is 1\n",
      "Number of -460 is 1\n",
      "Number of -456 is 1\n",
      "Number of -449 is 1\n",
      "Number of -438 is 1\n",
      "Number of -430 is 2\n",
      "Number of -414 is 1\n",
      "Number of -402 is 1\n",
      "Number of -388 is 1\n",
      "Number of -383 is 1\n",
      "Number of -381 is 1\n",
      "Number of -375 is 1\n",
      "Number of -374 is 1\n",
      "Number of -365 is 1\n",
      "Number of -349 is 1\n",
      "Number of -342 is 1\n",
      "Number of -340 is 1\n",
      "Number of -337 is 1\n",
      "Number of -334 is 1\n",
      "Number of -329 is 1\n",
      "Number of -326 is 1\n",
      "Number of -323 is 1\n",
      "Number of -321 is 1\n",
      "Number of -317 is 1\n",
      "Number of -311 is 1\n",
      "Number of -309 is 2\n",
      "Number of -306 is 3\n",
      "Number of -302 is 2\n",
      "Number of -297 is 1\n",
      "Number of -295 is 1\n",
      "Number of -289 is 1\n",
      "Number of -285 is 1\n",
      "Number of -275 is 1\n",
      "Number of -271 is 2\n",
      "Number of -270 is 1\n",
      "Number of -269 is 1\n",
      "Number of -265 is 1\n",
      "Number of -260 is 1\n",
      "Number of -257 is 2\n",
      "Number of -247 is 1\n",
      "Number of -244 is 1\n",
      "Number of -243 is 1\n",
      "Number of -238 is 1\n",
      "Number of -231 is 1\n",
      "Number of -227 is 1\n",
      "Number of -218 is 2\n",
      "Number of -215 is 1\n",
      "Number of -211 is 2\n",
      "Number of -209 is 1\n",
      "Number of -208 is 1\n",
      "Number of -207 is 1\n",
      "Number of -205 is 1\n",
      "Number of -200 is 1\n",
      "Number of -198 is 1\n",
      "Number of -194 is 1\n",
      "Number of -192 is 2\n",
      "Number of -190 is 1\n",
      "Number of -185 is 1\n",
      "Number of -184 is 1\n",
      "Number of -182 is 1\n",
      "Number of -180 is 2\n",
      "Number of -178 is 1\n",
      "Number of -173 is 1\n",
      "Number of -172 is 1\n",
      "Number of -165 is 1\n",
      "Number of -160 is 1\n",
      "Number of -143 is 1\n",
      "Number of -141 is 1\n",
      "Number of -137 is 1\n",
      "Number of -136 is 1\n",
      "Number of -125 is 1\n",
      "Number of -122 is 1\n",
      "Number of -121 is 1\n",
      "Number of -118 is 1\n",
      "Number of -117 is 1\n",
      "Number of -103 is 1\n",
      "Number of -81 is 1\n",
      "Number of -80 is 1\n",
      "Number of -77 is 1\n",
      "Number of -73 is 1\n",
      "Number of -68 is 1\n"
     ]
    }
   ],
   "source": [
    "for i in range(min(scores), max(scores)+1):\n",
    "    if scores.count(i) != 0:\n",
    "        print('Number of', i, 'is', scores.count(i))"
   ]
  },
  {
   "cell_type": "markdown",
   "id": "2cf5ee4d",
   "metadata": {},
   "source": [
    "# Replay memory"
   ]
  },
  {
   "cell_type": "code",
   "execution_count": null,
   "id": "66872a13",
   "metadata": {},
   "outputs": [],
   "source": []
  },
  {
   "cell_type": "markdown",
   "id": "49dc845d",
   "metadata": {},
   "source": [
    "# Q network"
   ]
  },
  {
   "cell_type": "code",
   "execution_count": null,
   "id": "a87c600c",
   "metadata": {},
   "outputs": [],
   "source": []
  },
  {
   "cell_type": "markdown",
   "id": "157590de",
   "metadata": {},
   "source": [
    "# Training"
   ]
  },
  {
   "cell_type": "code",
   "execution_count": null,
   "id": "c389ba0c",
   "metadata": {},
   "outputs": [],
   "source": []
  },
  {
   "cell_type": "markdown",
   "id": "05872a8f",
   "metadata": {},
   "source": [
    "# Training loop"
   ]
  },
  {
   "cell_type": "code",
   "execution_count": null,
   "id": "88e63bb6",
   "metadata": {},
   "outputs": [],
   "source": []
  }
 ],
 "metadata": {
  "kernelspec": {
   "display_name": "Python 3 (ipykernel)",
   "language": "python",
   "name": "python3"
  },
  "language_info": {
   "codemirror_mode": {
    "name": "ipython",
    "version": 3
   },
   "file_extension": ".py",
   "mimetype": "text/x-python",
   "name": "python",
   "nbconvert_exporter": "python",
   "pygments_lexer": "ipython3",
   "version": "3.8.10"
  }
 },
 "nbformat": 4,
 "nbformat_minor": 5
}
