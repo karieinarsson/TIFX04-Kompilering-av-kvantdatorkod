{
 "cells": [
  {
   "cell_type": "markdown",
   "id": "c233a331",
   "metadata": {},
   "source": [
    "# Pip install all needed packages"
   ]
  },
  {
   "cell_type": "code",
   "execution_count": 1,
   "id": "9ea530d6",
   "metadata": {
    "scrolled": true
   },
   "outputs": [
    {
     "name": "stdout",
     "output_type": "stream",
     "text": [
      "Defaulting to user installation because normal site-packages is not writeable\n",
      "Requirement already satisfied: gym in /home/surface/.local/lib/python3.8/site-packages (0.21.0)\n",
      "Requirement already satisfied: cloudpickle>=1.2.0 in /home/surface/.local/lib/python3.8/site-packages (from gym) (2.0.0)\n",
      "Requirement already satisfied: numpy>=1.18.0 in /home/surface/.local/lib/python3.8/site-packages (from gym) (1.18.5)\n",
      "Defaulting to user installation because normal site-packages is not writeable\n",
      "Requirement already satisfied: tensorflow==2.3.0 in /home/surface/.local/lib/python3.8/site-packages (2.3.0)\n",
      "Requirement already satisfied: astunparse==1.6.3 in /home/surface/.local/lib/python3.8/site-packages (from tensorflow==2.3.0) (1.6.3)\n",
      "Requirement already satisfied: protobuf>=3.9.2 in /home/surface/.local/lib/python3.8/site-packages (from tensorflow==2.3.0) (3.13.0)\n",
      "Requirement already satisfied: numpy<1.19.0,>=1.16.0 in /home/surface/.local/lib/python3.8/site-packages (from tensorflow==2.3.0) (1.18.5)\n",
      "Requirement already satisfied: absl-py>=0.7.0 in /home/surface/.local/lib/python3.8/site-packages (from tensorflow==2.3.0) (0.11.0)\n",
      "Requirement already satisfied: keras-preprocessing<1.2,>=1.1.1 in /home/surface/.local/lib/python3.8/site-packages (from tensorflow==2.3.0) (1.1.2)\n",
      "Requirement already satisfied: tensorboard<3,>=2.3.0 in /home/surface/.local/lib/python3.8/site-packages (from tensorflow==2.3.0) (2.3.0)\n",
      "Requirement already satisfied: google-pasta>=0.1.8 in /home/surface/.local/lib/python3.8/site-packages (from tensorflow==2.3.0) (0.2.0)\n",
      "Requirement already satisfied: grpcio>=1.8.6 in /home/surface/.local/lib/python3.8/site-packages (from tensorflow==2.3.0) (1.33.2)\n",
      "Requirement already satisfied: gast==0.3.3 in /home/surface/.local/lib/python3.8/site-packages (from tensorflow==2.3.0) (0.3.3)\n",
      "Requirement already satisfied: termcolor>=1.1.0 in /home/surface/.local/lib/python3.8/site-packages (from tensorflow==2.3.0) (1.1.0)\n",
      "Requirement already satisfied: h5py<2.11.0,>=2.10.0 in /home/surface/.local/lib/python3.8/site-packages (from tensorflow==2.3.0) (2.10.0)\n",
      "Requirement already satisfied: tensorflow-estimator<2.4.0,>=2.3.0 in /home/surface/.local/lib/python3.8/site-packages (from tensorflow==2.3.0) (2.3.0)\n",
      "Requirement already satisfied: wheel>=0.26 in /usr/lib/python3/dist-packages (from tensorflow==2.3.0) (0.34.2)\n",
      "Requirement already satisfied: opt-einsum>=2.3.2 in /home/surface/.local/lib/python3.8/site-packages (from tensorflow==2.3.0) (3.3.0)\n",
      "Requirement already satisfied: six>=1.12.0 in /usr/lib/python3/dist-packages (from tensorflow==2.3.0) (1.14.0)\n",
      "Requirement already satisfied: wrapt>=1.11.1 in /home/surface/.local/lib/python3.8/site-packages (from tensorflow==2.3.0) (1.12.1)\n",
      "Requirement already satisfied: scipy==1.4.1 in /home/surface/.local/lib/python3.8/site-packages (from tensorflow==2.3.0) (1.4.1)\n",
      "Requirement already satisfied: setuptools in /usr/lib/python3/dist-packages (from protobuf>=3.9.2->tensorflow==2.3.0) (45.2.0)\n",
      "Requirement already satisfied: google-auth<2,>=1.6.3 in /home/surface/.local/lib/python3.8/site-packages (from tensorboard<3,>=2.3.0->tensorflow==2.3.0) (1.23.0)\n",
      "Requirement already satisfied: markdown>=2.6.8 in /home/surface/.local/lib/python3.8/site-packages (from tensorboard<3,>=2.3.0->tensorflow==2.3.0) (3.3.3)\n",
      "Requirement already satisfied: google-auth-oauthlib<0.5,>=0.4.1 in /home/surface/.local/lib/python3.8/site-packages (from tensorboard<3,>=2.3.0->tensorflow==2.3.0) (0.4.2)\n",
      "Requirement already satisfied: werkzeug>=0.11.15 in /home/surface/.local/lib/python3.8/site-packages (from tensorboard<3,>=2.3.0->tensorflow==2.3.0) (1.0.1)\n",
      "Requirement already satisfied: tensorboard-plugin-wit>=1.6.0 in /home/surface/.local/lib/python3.8/site-packages (from tensorboard<3,>=2.3.0->tensorflow==2.3.0) (1.7.0)\n",
      "Requirement already satisfied: requests<3,>=2.21.0 in /usr/local/lib/python3.8/dist-packages (from tensorboard<3,>=2.3.0->tensorflow==2.3.0) (2.27.1)\n",
      "Requirement already satisfied: pyasn1-modules>=0.2.1 in /home/surface/.local/lib/python3.8/site-packages (from google-auth<2,>=1.6.3->tensorboard<3,>=2.3.0->tensorflow==2.3.0) (0.2.8)\n",
      "Requirement already satisfied: cachetools<5.0,>=2.0.0 in /home/surface/.local/lib/python3.8/site-packages (from google-auth<2,>=1.6.3->tensorboard<3,>=2.3.0->tensorflow==2.3.0) (4.1.1)\n",
      "Requirement already satisfied: rsa<5,>=3.1.4 in /home/surface/.local/lib/python3.8/site-packages (from google-auth<2,>=1.6.3->tensorboard<3,>=2.3.0->tensorflow==2.3.0) (4.6)\n",
      "Requirement already satisfied: requests-oauthlib>=0.7.0 in /home/surface/.local/lib/python3.8/site-packages (from google-auth-oauthlib<0.5,>=0.4.1->tensorboard<3,>=2.3.0->tensorflow==2.3.0) (1.3.0)\n",
      "Requirement already satisfied: certifi>=2017.4.17 in /home/surface/.local/lib/python3.8/site-packages (from requests<3,>=2.21.0->tensorboard<3,>=2.3.0->tensorflow==2.3.0) (2021.10.8)\n",
      "Requirement already satisfied: idna<4,>=2.5 in /usr/lib/python3/dist-packages (from requests<3,>=2.21.0->tensorboard<3,>=2.3.0->tensorflow==2.3.0) (2.8)\n",
      "Requirement already satisfied: charset-normalizer~=2.0.0 in /usr/local/lib/python3.8/dist-packages (from requests<3,>=2.21.0->tensorboard<3,>=2.3.0->tensorflow==2.3.0) (2.0.10)\n",
      "Requirement already satisfied: urllib3<1.27,>=1.21.1 in /usr/lib/python3/dist-packages (from requests<3,>=2.21.0->tensorboard<3,>=2.3.0->tensorflow==2.3.0) (1.25.8)\n",
      "Requirement already satisfied: pyasn1<0.5.0,>=0.4.6 in /home/surface/.local/lib/python3.8/site-packages (from pyasn1-modules>=0.2.1->google-auth<2,>=1.6.3->tensorboard<3,>=2.3.0->tensorflow==2.3.0) (0.4.8)\n",
      "Requirement already satisfied: oauthlib>=3.0.0 in /usr/lib/python3/dist-packages (from requests-oauthlib>=0.7.0->google-auth-oauthlib<0.5,>=0.4.1->tensorboard<3,>=2.3.0->tensorflow==2.3.0) (3.1.0)\n",
      "Defaulting to user installation because normal site-packages is not writeable\n",
      "Requirement already satisfied: keras in /home/surface/.local/lib/python3.8/site-packages (2.8.0)\n",
      "Defaulting to user installation because normal site-packages is not writeable\n",
      "Requirement already satisfied: keras-rl2 in /home/surface/.local/lib/python3.8/site-packages (1.0.5)\n",
      "Requirement already satisfied: tensorflow in /home/surface/.local/lib/python3.8/site-packages (from keras-rl2) (2.3.0)\n",
      "Requirement already satisfied: tensorboard<3,>=2.3.0 in /home/surface/.local/lib/python3.8/site-packages (from tensorflow->keras-rl2) (2.3.0)\n",
      "Requirement already satisfied: astunparse==1.6.3 in /home/surface/.local/lib/python3.8/site-packages (from tensorflow->keras-rl2) (1.6.3)\n",
      "Requirement already satisfied: termcolor>=1.1.0 in /home/surface/.local/lib/python3.8/site-packages (from tensorflow->keras-rl2) (1.1.0)\n",
      "Requirement already satisfied: scipy==1.4.1 in /home/surface/.local/lib/python3.8/site-packages (from tensorflow->keras-rl2) (1.4.1)\n",
      "Requirement already satisfied: grpcio>=1.8.6 in /home/surface/.local/lib/python3.8/site-packages (from tensorflow->keras-rl2) (1.33.2)\n",
      "Requirement already satisfied: absl-py>=0.7.0 in /home/surface/.local/lib/python3.8/site-packages (from tensorflow->keras-rl2) (0.11.0)\n",
      "Requirement already satisfied: wrapt>=1.11.1 in /home/surface/.local/lib/python3.8/site-packages (from tensorflow->keras-rl2) (1.12.1)\n",
      "Requirement already satisfied: opt-einsum>=2.3.2 in /home/surface/.local/lib/python3.8/site-packages (from tensorflow->keras-rl2) (3.3.0)\n",
      "Requirement already satisfied: six>=1.12.0 in /usr/lib/python3/dist-packages (from tensorflow->keras-rl2) (1.14.0)\n",
      "Requirement already satisfied: gast==0.3.3 in /home/surface/.local/lib/python3.8/site-packages (from tensorflow->keras-rl2) (0.3.3)\n",
      "Requirement already satisfied: protobuf>=3.9.2 in /home/surface/.local/lib/python3.8/site-packages (from tensorflow->keras-rl2) (3.13.0)\n",
      "Requirement already satisfied: tensorflow-estimator<2.4.0,>=2.3.0 in /home/surface/.local/lib/python3.8/site-packages (from tensorflow->keras-rl2) (2.3.0)\n",
      "Requirement already satisfied: keras-preprocessing<1.2,>=1.1.1 in /home/surface/.local/lib/python3.8/site-packages (from tensorflow->keras-rl2) (1.1.2)\n",
      "Requirement already satisfied: wheel>=0.26 in /usr/lib/python3/dist-packages (from tensorflow->keras-rl2) (0.34.2)\n",
      "Requirement already satisfied: h5py<2.11.0,>=2.10.0 in /home/surface/.local/lib/python3.8/site-packages (from tensorflow->keras-rl2) (2.10.0)\n",
      "Requirement already satisfied: google-pasta>=0.1.8 in /home/surface/.local/lib/python3.8/site-packages (from tensorflow->keras-rl2) (0.2.0)\n",
      "Requirement already satisfied: numpy<1.19.0,>=1.16.0 in /home/surface/.local/lib/python3.8/site-packages (from tensorflow->keras-rl2) (1.18.5)\n",
      "Requirement already satisfied: setuptools in /usr/lib/python3/dist-packages (from protobuf>=3.9.2->tensorflow->keras-rl2) (45.2.0)\n"
     ]
    },
    {
     "name": "stdout",
     "output_type": "stream",
     "text": [
      "Requirement already satisfied: google-auth-oauthlib<0.5,>=0.4.1 in /home/surface/.local/lib/python3.8/site-packages (from tensorboard<3,>=2.3.0->tensorflow->keras-rl2) (0.4.2)\n",
      "Requirement already satisfied: google-auth<2,>=1.6.3 in /home/surface/.local/lib/python3.8/site-packages (from tensorboard<3,>=2.3.0->tensorflow->keras-rl2) (1.23.0)\n",
      "Requirement already satisfied: markdown>=2.6.8 in /home/surface/.local/lib/python3.8/site-packages (from tensorboard<3,>=2.3.0->tensorflow->keras-rl2) (3.3.3)\n",
      "Requirement already satisfied: werkzeug>=0.11.15 in /home/surface/.local/lib/python3.8/site-packages (from tensorboard<3,>=2.3.0->tensorflow->keras-rl2) (1.0.1)\n",
      "Requirement already satisfied: requests<3,>=2.21.0 in /usr/local/lib/python3.8/dist-packages (from tensorboard<3,>=2.3.0->tensorflow->keras-rl2) (2.27.1)\n",
      "Requirement already satisfied: tensorboard-plugin-wit>=1.6.0 in /home/surface/.local/lib/python3.8/site-packages (from tensorboard<3,>=2.3.0->tensorflow->keras-rl2) (1.7.0)\n",
      "Requirement already satisfied: cachetools<5.0,>=2.0.0 in /home/surface/.local/lib/python3.8/site-packages (from google-auth<2,>=1.6.3->tensorboard<3,>=2.3.0->tensorflow->keras-rl2) (4.1.1)\n",
      "Requirement already satisfied: pyasn1-modules>=0.2.1 in /home/surface/.local/lib/python3.8/site-packages (from google-auth<2,>=1.6.3->tensorboard<3,>=2.3.0->tensorflow->keras-rl2) (0.2.8)\n",
      "Requirement already satisfied: rsa<5,>=3.1.4 in /home/surface/.local/lib/python3.8/site-packages (from google-auth<2,>=1.6.3->tensorboard<3,>=2.3.0->tensorflow->keras-rl2) (4.6)\n",
      "Requirement already satisfied: requests-oauthlib>=0.7.0 in /home/surface/.local/lib/python3.8/site-packages (from google-auth-oauthlib<0.5,>=0.4.1->tensorboard<3,>=2.3.0->tensorflow->keras-rl2) (1.3.0)\n",
      "Requirement already satisfied: certifi>=2017.4.17 in /home/surface/.local/lib/python3.8/site-packages (from requests<3,>=2.21.0->tensorboard<3,>=2.3.0->tensorflow->keras-rl2) (2021.10.8)\n",
      "Requirement already satisfied: charset-normalizer~=2.0.0 in /usr/local/lib/python3.8/dist-packages (from requests<3,>=2.21.0->tensorboard<3,>=2.3.0->tensorflow->keras-rl2) (2.0.10)\n",
      "Requirement already satisfied: idna<4,>=2.5 in /usr/lib/python3/dist-packages (from requests<3,>=2.21.0->tensorboard<3,>=2.3.0->tensorflow->keras-rl2) (2.8)\n",
      "Requirement already satisfied: urllib3<1.27,>=1.21.1 in /usr/lib/python3/dist-packages (from requests<3,>=2.21.0->tensorboard<3,>=2.3.0->tensorflow->keras-rl2) (1.25.8)\n",
      "Requirement already satisfied: pyasn1<0.5.0,>=0.4.6 in /home/surface/.local/lib/python3.8/site-packages (from pyasn1-modules>=0.2.1->google-auth<2,>=1.6.3->tensorboard<3,>=2.3.0->tensorflow->keras-rl2) (0.4.8)\n",
      "Requirement already satisfied: oauthlib>=3.0.0 in /usr/lib/python3/dist-packages (from requests-oauthlib>=0.7.0->google-auth-oauthlib<0.5,>=0.4.1->tensorboard<3,>=2.3.0->tensorflow->keras-rl2) (3.1.0)\n"
     ]
    }
   ],
   "source": [
    "!pip install gym\n",
    "!pip install tensorflow==2.3.0\n",
    "!pip install keras\n",
    "!pip install keras-rl2"
   ]
  },
  {
   "cell_type": "markdown",
   "id": "66b9ccec",
   "metadata": {},
   "source": [
    "# Imports"
   ]
  },
  {
   "cell_type": "code",
   "execution_count": 2,
   "id": "afac425d",
   "metadata": {},
   "outputs": [
    {
     "name": "stderr",
     "output_type": "stream",
     "text": [
      "2022-02-19 19:10:08.770431: W tensorflow/stream_executor/platform/default/dso_loader.cc:59] Could not load dynamic library 'libcudart.so.10.1'; dlerror: libcudart.so.10.1: cannot open shared object file: No such file or directory\n",
      "2022-02-19 19:10:08.770464: I tensorflow/stream_executor/cuda/cudart_stub.cc:29] Ignore above cudart dlerror if you do not have a GPU set up on your machine.\n"
     ]
    }
   ],
   "source": [
    "from gym import Env\n",
    "from gym.spaces import Discrete, Box\n",
    "import numpy as np\n",
    "import math\n",
    "\n",
    "\n",
    "from tensorflow.keras.models import Sequential\n",
    "from tensorflow.keras.layers import Dense, Flatten\n",
    "from tensorflow.keras.optimizers import Adam\n",
    "\n",
    "from rl.agents import DQNAgent\n",
    "from rl.policy import BoltzmannQPolicy\n",
    "from rl.memory import SequentialMemory"
   ]
  },
  {
   "cell_type": "markdown",
   "id": "0fc17f30",
   "metadata": {},
   "source": [
    "# Global variables"
   ]
  },
  {
   "cell_type": "code",
   "execution_count": 3,
   "id": "bb5fbb1e",
   "metadata": {},
   "outputs": [],
   "source": [
    "depthOfCode = 10\n",
    "rows = 2\n",
    "cols = 2"
   ]
  },
  {
   "cell_type": "markdown",
   "id": "416222a3",
   "metadata": {},
   "source": [
    "# Functions"
   ]
  },
  {
   "cell_type": "code",
   "execution_count": 4,
   "id": "f6e0add5",
   "metadata": {},
   "outputs": [],
   "source": [
    "# swap is given actions which is a tuple of actions or a action, where every action is a tuple with the values\n",
    "# of two qubits (x, y) whos values should be swaped. x and y are ints between 0 and 8 corresponding to \n",
    "# the following qubit notation:\n",
    "#         [[0, 1, 2],\n",
    "#          [3, 4, 5],\n",
    "#          [6, 7, 8]]\n",
    "\n",
    "# ex. of a tuple of actions: ((0, 3), (4, 5), (7, 8))\n",
    "\n",
    "# ex. of a single action: (0, 1)\n",
    "\n",
    "# in the case of a single action we make a list out of it so it's iterable to minimize code\n",
    "def swap(state, actions):\n",
    "    if type(actions[0]) != tuple:\n",
    "        actions = [actions]\n",
    "    for action in actions:\n",
    "        pos0, pos1 = action\n",
    "        \n",
    "        col0 = pos0%cols\n",
    "        row0 = int((pos0-col0)/cols)  \n",
    "        col1 = pos1%cols\n",
    "        row1 = int((pos1-col1)/cols)\n",
    "        \n",
    "        for i in range(len(state)):\n",
    "            state[i][row0][col0], state[i][row1][col1] = state[i][row1][col1], state[i][row0][col0]\n"
   ]
  },
  {
   "cell_type": "code",
   "execution_count": 5,
   "id": "a9917c9e",
   "metadata": {},
   "outputs": [],
   "source": [
    "# getNeighbors returns a list of the qubit notations of all neighbors to a specific qubit. \n",
    "# I.e. qubits above, below, right and left of the specific qubit.\n",
    "\n",
    "def getNeighbors(state, row_number, column_number):\n",
    "    a = [[state[i][j] if  i >= 0 and i < len(state) and j >= 0 and j < len(state[0]) else -1\n",
    "                    for j in range(column_number-1, column_number+2)]\n",
    "                        for i in range(row_number-1, row_number+2)]\n",
    "    return [a[0][1], a[1][0], a[1][2], a[2][1]]"
   ]
  },
  {
   "cell_type": "code",
   "execution_count": 6,
   "id": "4fad7168",
   "metadata": {},
   "outputs": [],
   "source": [
    "#                         [[1,0,0], [[1,0,0],   [[1,0,0],         [[1,0,0],  \n",
    "# Takes in a state like [  [1,0,2],  [1,0,2], ,  [1,0,2], , ... ,  [1,0,2], ] and checks if all the pairs of \n",
    "#                          [2,0,0]]  [2,0,0]]    [2,0,0]]          [2,0,0]] \n",
    "# numbers in the first slice are neighbors and if so returns True else returns False\n",
    "\n",
    "def isExecutableState(state):\n",
    "    for row in range(len(state[0])):\n",
    "        for col in range(len(state[0][0])):\n",
    "            if state[0][row][col] > 0:\n",
    "                if not state[0][row][col] in getNeighbors(state[0], row, col):\n",
    "                    return False\n",
    "\n",
    "    return True"
   ]
  },
  {
   "cell_type": "code",
   "execution_count": 7,
   "id": "7b13a3f9",
   "metadata": {},
   "outputs": [],
   "source": [
    "# We use this once to get all the different swap combinations. I.e. all acceptable combinations of one to four\n",
    "# swaps. This are the different actions we cound make in one timestep.\n",
    "\n",
    "def getPossibleActions(maxSwapsPerTimeStep=math.floor(rows*cols/2)):\n",
    "    state = np.arange(rows*cols).reshape((rows,cols))\n",
    "    \n",
    "    possibleActions = getPossibleActionsSub(state, [], maxSwapsPerTimeStep)\n",
    "    \n",
    "    possibleActions = set(map(lambda x: tuple(sorted(x)), possibleActions ))\n",
    "    \n",
    "    possibleActions = list(possibleActions)\n",
    "    possibleActions.append((0, 0))\n",
    "    \n",
    "    return possibleActions\n",
    "    \n",
    "def getPossibleActionsSub(state, used, maxSwapsPerTimeStep):\n",
    "    if maxSwapsPerTimeStep == 0:\n",
    "        return np.asarray([])\n",
    "    \n",
    "    possibleActions = []\n",
    "    \n",
    "    for i in range(len(state)):\n",
    "        for j in range(len(state[0])):\n",
    "            \n",
    "            usedtmp = used.copy()\n",
    "            \n",
    "            if not state[i][j] in usedtmp:\n",
    "                neighbors = getNeighbors(state, i, j)\n",
    "                for neighbor in neighbors:\n",
    "                    if neighbor >= 0 and not (neighbor, state[i][j]) in possibleActions and not neighbor in usedtmp:\n",
    "                        possibleActions.append((state[i][j], neighbor))\n",
    "                        usedtmp.append(state[i][j])\n",
    "                        usedtmp.append(neighbor)\n",
    " \n",
    "                        for action in getPossibleActionsSub(state, usedtmp, maxSwapsPerTimeStep-1):\n",
    "                            if type(action) == tuple:\n",
    "                                possibleActions.append([(state[i][j], neighbor), action])\n",
    "                            elif type(action) == list:\n",
    "                                action.append((state[i][j], neighbor))\n",
    "                                possibleActions.append(action)\n",
    "                                \n",
    "        \n",
    "    return possibleActions"
   ]
  },
  {
   "cell_type": "code",
   "execution_count": 8,
   "id": "cb62eb70",
   "metadata": {},
   "outputs": [],
   "source": [
    "# Creates a shuffled Matrix simulatinga slice of quantum code with one to max amount \n",
    "# of operations per timestep\n",
    "\n",
    "# Ex1. [[0, 1, 0],\n",
    "#       [1, 2, 2],\n",
    "#       [3, 0, 3]]\n",
    "\n",
    "# Ex2. [[2, 1],\n",
    "#       [2, 1]]\n",
    "\n",
    "def makeStateSlice():\n",
    "    random = np.random.choice([x for x in range(2, rows*cols+2) if x % 2])\n",
    "    stateSlice = np.ceil(np.arange(1, random)/2)\n",
    "    stateSlice = np.append(stateSlice, np.zeros(rows*cols-random+1))\n",
    "    np.random.shuffle(stateSlice)\n",
    "    return stateSlice.reshape((rows,cols))"
   ]
  },
  {
   "cell_type": "code",
   "execution_count": 9,
   "id": "c49c3b4d",
   "metadata": {},
   "outputs": [],
   "source": [
    "# Makes a state out of depthOfCode amount of slices\n",
    "def makeState():\n",
    "    state = np.zeros((depthOfCode,rows,cols))\n",
    "    for i in range(len(state)):\n",
    "        state[i] = makeStateSlice()\n",
    "    return state"
   ]
  },
  {
   "cell_type": "markdown",
   "id": "8ed68fd9",
   "metadata": {},
   "source": [
    "# Tests some of the functions"
   ]
  },
  {
   "cell_type": "code",
   "execution_count": 10,
   "id": "54b19075",
   "metadata": {
    "scrolled": false
   },
   "outputs": [
    {
     "name": "stdout",
     "output_type": "stream",
     "text": [
      "7\n",
      "(0, 1)\n",
      "[[1. 0.]\n",
      " [2. 3.]]\n"
     ]
    }
   ],
   "source": [
    "state = np.zeros((depthOfCode,rows,cols))\n",
    "for i in range(len(state)):\n",
    "    state[i] = np.arange(rows*cols).reshape((rows,cols))\n",
    "\n",
    "#print(state)\n",
    "\n",
    "possibleActions = getPossibleActions()\n",
    "print(len(possibleActions))\n",
    "#print(possibleActions)\n",
    "\n",
    "a = possibleActions[0]\n",
    "\n",
    "print(a)\n",
    "\n",
    "statetmp = np.arange(rows*cols).reshape((rows,cols))\n",
    "\n",
    "swap(state, a)\n",
    "\n",
    "print(state[0])\n",
    "\n",
    "#for i in range(len(possibleActions)):\n",
    "#output = set(map(lambda x: tuple(sorted(x)),possibleActions))\n",
    "\n",
    "#print(len(output))"
   ]
  },
  {
   "cell_type": "markdown",
   "id": "25c6a18b",
   "metadata": {},
   "source": [
    "Test function makeState"
   ]
  },
  {
   "cell_type": "code",
   "execution_count": 11,
   "id": "e703db6a",
   "metadata": {
    "scrolled": true
   },
   "outputs": [
    {
     "name": "stdout",
     "output_type": "stream",
     "text": [
      "[[[2. 2.]\n",
      "  [1. 1.]]\n",
      "\n",
      " [[0. 1.]\n",
      "  [1. 0.]]\n",
      "\n",
      " [[0. 1.]\n",
      "  [1. 0.]]\n",
      "\n",
      " [[1. 1.]\n",
      "  [2. 2.]]\n",
      "\n",
      " [[1. 0.]\n",
      "  [0. 1.]]\n",
      "\n",
      " [[2. 1.]\n",
      "  [1. 2.]]\n",
      "\n",
      " [[0. 0.]\n",
      "  [1. 1.]]\n",
      "\n",
      " [[1. 0.]\n",
      "  [1. 0.]]\n",
      "\n",
      " [[1. 0.]\n",
      "  [1. 0.]]\n",
      "\n",
      " [[1. 0.]\n",
      "  [1. 0.]]]\n"
     ]
    }
   ],
   "source": [
    "print(makeState())"
   ]
  },
  {
   "cell_type": "markdown",
   "id": "47d76067",
   "metadata": {},
   "source": [
    "# Enviotment definition and sub functions"
   ]
  },
  {
   "cell_type": "code",
   "execution_count": 12,
   "id": "e8a3e31f",
   "metadata": {},
   "outputs": [],
   "source": [
    "possibleActions = getPossibleActions()"
   ]
  },
  {
   "cell_type": "code",
   "execution_count": 13,
   "id": "2799f385",
   "metadata": {},
   "outputs": [],
   "source": [
    "#Our enviorment\n",
    "class Kvant(Env):\n",
    "    def __init__(self):\n",
    "        #array of possible actions\n",
    "        self.possibleActions = possibleActions\n",
    "        \n",
    "        #self.possibleActions = getPossibleActions(1) #this for only 1 swap at a time\n",
    "        \n",
    "        #Number of actions we can take\n",
    "        self.action_space = Discrete(len(self.possibleActions))\n",
    "        \n",
    "        #\n",
    "        self.observation_space = Box(low=0, high=math.floor(rows*cols/2), shape=(depthOfCode, rows, cols), dtype=np.int)\n",
    "        \n",
    "        #The start state\n",
    "        self.state = makeState()\n",
    "        \n",
    "        #max amount of layers per episode\n",
    "        self.maxLayers = depthOfCode\n",
    "        \n",
    "    def step(self, action):\n",
    "        \n",
    "        actions = self.possibleActions[action]\n",
    "\n",
    "        swap(self.state, actions)\n",
    "         \n",
    "        \n",
    "        # Rewards \n",
    "        if actions == (0,0):\n",
    "            reward = 0\n",
    "        else:\n",
    "            reward = -1\n",
    "        \n",
    "        if isExecutableState(self.state):\n",
    "            \n",
    "            reward += 5\n",
    "            \n",
    "            # remove the exicutable slice and add a new random slice at the tail\n",
    "            self.state = np.roll(self.state, -1, axis = 0)\n",
    "            self.state[depthOfCode - 1] = makeStateSlice()\n",
    "            \n",
    "            self.maxLayers -= 1\n",
    "            \n",
    "            # we are not done except if this was the last layer we can work on this episode\n",
    "            if self.maxLayers <= 0:\n",
    "                done = True\n",
    "            else:\n",
    "                done = False\n",
    "            \n",
    "        else:\n",
    "            done = False\n",
    "        \n",
    "        info = {}\n",
    "        \n",
    "        return self.state, reward, done, info\n",
    "        \n",
    "    def render(self):\n",
    "        pass\n",
    "    \n",
    "    def reset(self):\n",
    "        self.state = makeState()\n",
    "        #self.maxTimeSteps = 5\n",
    "        self.maxLayers = depthOfCode\n",
    "        return self.state"
   ]
  },
  {
   "cell_type": "markdown",
   "id": "a6d0eba7",
   "metadata": {},
   "source": [
    "# Testing the enviorment"
   ]
  },
  {
   "cell_type": "code",
   "execution_count": 14,
   "id": "ec9c864f",
   "metadata": {},
   "outputs": [],
   "source": [
    "env = Kvant()"
   ]
  },
  {
   "cell_type": "code",
   "execution_count": 15,
   "id": "17948c19",
   "metadata": {
    "scrolled": true
   },
   "outputs": [
    {
     "data": {
      "text/plain": [
       "array([[[2, 1],\n",
       "        [1, 2]],\n",
       "\n",
       "       [[1, 0],\n",
       "        [1, 1]],\n",
       "\n",
       "       [[0, 2],\n",
       "        [2, 2]],\n",
       "\n",
       "       [[0, 0],\n",
       "        [1, 0]],\n",
       "\n",
       "       [[1, 2],\n",
       "        [2, 1]],\n",
       "\n",
       "       [[1, 1],\n",
       "        [0, 2]],\n",
       "\n",
       "       [[0, 1],\n",
       "        [1, 1]],\n",
       "\n",
       "       [[0, 0],\n",
       "        [1, 2]],\n",
       "\n",
       "       [[0, 2],\n",
       "        [0, 0]],\n",
       "\n",
       "       [[1, 0],\n",
       "        [1, 2]]])"
      ]
     },
     "execution_count": 15,
     "metadata": {},
     "output_type": "execute_result"
    }
   ],
   "source": [
    "env.observation_space.sample()"
   ]
  },
  {
   "cell_type": "markdown",
   "id": "ebcf4571",
   "metadata": {},
   "source": [
    "## test just random actions"
   ]
  },
  {
   "cell_type": "code",
   "execution_count": 16,
   "id": "7b989b89",
   "metadata": {
    "scrolled": false
   },
   "outputs": [],
   "source": [
    "episodes = 500\n",
    "scores = []\n",
    "for episode in range(1, episodes+1):\n",
    "    state = env.reset()\n",
    "    done = False\n",
    "    score = 0 \n",
    "    \n",
    "    while not done:\n",
    "        action = env.action_space.sample()\n",
    "        n_state, reward, done, info = env.step(action)\n",
    "        score+=reward\n",
    "    scores.append(score)"
   ]
  },
  {
   "cell_type": "code",
   "execution_count": 17,
   "id": "07588959",
   "metadata": {
    "scrolled": true
   },
   "outputs": [
    {
     "name": "stdout",
     "output_type": "stream",
     "text": [
      "Number of 26 is 1\n",
      "Number of 27 is 1\n",
      "Number of 28 is 1\n",
      "Number of 29 is 2\n",
      "Number of 30 is 8\n",
      "Number of 31 is 17\n",
      "Number of 32 is 28\n",
      "Number of 33 is 28\n",
      "Number of 34 is 40\n",
      "Number of 35 is 44\n",
      "Number of 36 is 66\n",
      "Number of 37 is 83\n",
      "Number of 38 is 64\n",
      "Number of 39 is 58\n",
      "Number of 40 is 40\n",
      "Number of 41 is 12\n",
      "Number of 42 is 5\n",
      "Number of 43 is 1\n",
      "Number of 45 is 1\n"
     ]
    }
   ],
   "source": [
    "for i in range(min(scores), max(scores)+1):\n",
    "    if scores.count(i) != 0:\n",
    "        print('Number of', i, 'is', scores.count(i))"
   ]
  },
  {
   "cell_type": "code",
   "execution_count": 18,
   "id": "8ccc01b5",
   "metadata": {},
   "outputs": [
    {
     "name": "stdout",
     "output_type": "stream",
     "text": [
      "36.314\n"
     ]
    }
   ],
   "source": [
    "print(np.mean(scores))"
   ]
  },
  {
   "cell_type": "markdown",
   "id": "8973858c",
   "metadata": {},
   "source": [
    "# Create a Deep Learning Model with Keras"
   ]
  },
  {
   "cell_type": "code",
   "execution_count": 19,
   "id": "a84d2643",
   "metadata": {},
   "outputs": [],
   "source": [
    "actions = env.action_space.n"
   ]
  },
  {
   "cell_type": "code",
   "execution_count": 20,
   "id": "d56eb937",
   "metadata": {},
   "outputs": [],
   "source": [
    "def build_model(actions):\n",
    "    model = Sequential()\n",
    "    model.add(Dense(20, activation='relu', input_shape=(1, depthOfCode, cols, rows)))\n",
    "    model.add(Flatten())\n",
    "    model.add(Dense(100, activation='relu'))\n",
    "    model.add(Dense(100, activation='relu'))\n",
    "    model.add(Dense(actions, activation='linear'))\n",
    "    return model"
   ]
  },
  {
   "cell_type": "code",
   "execution_count": 21,
   "id": "fc4ccbad",
   "metadata": {
    "scrolled": false
   },
   "outputs": [],
   "source": [
    "model = build_model(actions)"
   ]
  },
  {
   "cell_type": "code",
   "execution_count": 22,
   "id": "b5a76696",
   "metadata": {},
   "outputs": [
    {
     "name": "stdout",
     "output_type": "stream",
     "text": [
      "Model: \"sequential\"\n",
      "_________________________________________________________________\n",
      "Layer (type)                 Output Shape              Param #   \n",
      "=================================================================\n",
      "dense (Dense)                (None, 1, 10, 2, 20)      60        \n",
      "_________________________________________________________________\n",
      "flatten (Flatten)            (None, 400)               0         \n",
      "_________________________________________________________________\n",
      "dense_1 (Dense)              (None, 100)               40100     \n",
      "_________________________________________________________________\n",
      "dense_2 (Dense)              (None, 100)               10100     \n",
      "_________________________________________________________________\n",
      "dense_3 (Dense)              (None, 7)                 707       \n",
      "=================================================================\n",
      "Total params: 50,967\n",
      "Trainable params: 50,967\n",
      "Non-trainable params: 0\n",
      "_________________________________________________________________\n"
     ]
    }
   ],
   "source": [
    "model.summary()"
   ]
  },
  {
   "cell_type": "markdown",
   "id": "5999e600",
   "metadata": {},
   "source": [
    "# Q network"
   ]
  },
  {
   "cell_type": "code",
   "execution_count": 30,
   "id": "11e99db8",
   "metadata": {},
   "outputs": [],
   "source": [
    "def build_agent(model, actions):\n",
    "    policy = BoltzmannQPolicy()\n",
    "    memory = SequentialMemory(limit=200000, window_length=1)\n",
    "    agent = DQNAgent(model=model, memory=memory, policy=policy, \n",
    "                  nb_actions=actions, nb_steps_warmup=100, target_model_update=1e-2)\n",
    "    return agent"
   ]
  },
  {
   "cell_type": "code",
   "execution_count": 31,
   "id": "b35bca38",
   "metadata": {
    "scrolled": true
   },
   "outputs": [
    {
     "name": "stdout",
     "output_type": "stream",
     "text": [
      "Training for 50000 steps ...\n",
      "Interval 1 (0 steps performed)\n",
      "10000/10000 [==============================] - 83s 8ms/step - reward: 2.3095\n",
      "634 episodes - episode_reward: 36.427 [26.000, 43.000] - loss: 52873625.522 - mae: 37933.362 - mean_q: 47438.556\n",
      "\n",
      "Interval 2 (10000 steps performed)\n",
      "10000/10000 [==============================] - 84s 8ms/step - reward: 2.3121\n",
      "633 episodes - episode_reward: 36.509 [20.000, 44.000] - loss: 244820560.000 - mae: 80865.453 - mean_q: 100413.609\n",
      "\n",
      "Interval 3 (20000 steps performed)\n",
      "10000/10000 [==============================] - 88s 9ms/step - reward: 2.3540\n",
      "642 episodes - episode_reward: 36.657 [27.000, 45.000] - loss: 550402304.000 - mae: 119830.477 - mean_q: 148302.406\n",
      "\n",
      "Interval 4 (30000 steps performed)\n",
      "10000/10000 [==============================] - 86s 9ms/step - reward: 2.2926\n",
      "630 episodes - episode_reward: 36.395 [26.000, 45.000] - loss: 884111232.000 - mae: 148671.750 - mean_q: 183982.109\n",
      "\n",
      "Interval 5 (40000 steps performed)\n",
      "10000/10000 [==============================] - 92s 9ms/step - reward: 2.3416\n",
      "done, took 433.278 seconds\n"
     ]
    },
    {
     "data": {
      "text/plain": [
       "<tensorflow.python.keras.callbacks.History at 0x7fe22bbe1580>"
      ]
     },
     "execution_count": 31,
     "metadata": {},
     "output_type": "execute_result"
    }
   ],
   "source": [
    "agent = build_agent(model, actions)\n",
    "agent.compile(Adam(lr=1e-3), metrics=['mae'])\n",
    "agent.fit(env, nb_steps=50000, visualize=False, verbose=1)"
   ]
  },
  {
   "cell_type": "code",
   "execution_count": 25,
   "id": "2cd5f354",
   "metadata": {},
   "outputs": [
    {
     "name": "stdout",
     "output_type": "stream",
     "text": [
      "Testing for 100 episodes ...\n"
     ]
    },
    {
     "ename": "KeyboardInterrupt",
     "evalue": "",
     "output_type": "error",
     "traceback": [
      "\u001b[0;31m---------------------------------------------------------------------------\u001b[0m",
      "\u001b[0;31mKeyboardInterrupt\u001b[0m                         Traceback (most recent call last)",
      "Input \u001b[0;32mIn [25]\u001b[0m, in \u001b[0;36m<module>\u001b[0;34m\u001b[0m\n\u001b[0;32m----> 1\u001b[0m scores \u001b[38;5;241m=\u001b[39m \u001b[43mdqn\u001b[49m\u001b[38;5;241;43m.\u001b[39;49m\u001b[43mtest\u001b[49m\u001b[43m(\u001b[49m\u001b[43menv\u001b[49m\u001b[43m,\u001b[49m\u001b[43m \u001b[49m\u001b[43mnb_episodes\u001b[49m\u001b[38;5;241;43m=\u001b[39;49m\u001b[38;5;241;43m100\u001b[39;49m\u001b[43m,\u001b[49m\u001b[43m \u001b[49m\u001b[43mvisualize\u001b[49m\u001b[38;5;241;43m=\u001b[39;49m\u001b[38;5;28;43;01mFalse\u001b[39;49;00m\u001b[43m)\u001b[49m\n\u001b[1;32m      2\u001b[0m \u001b[38;5;28mprint\u001b[39m(np\u001b[38;5;241m.\u001b[39mmean(scores\u001b[38;5;241m.\u001b[39mhistory[\u001b[38;5;124m'\u001b[39m\u001b[38;5;124mepisode_reward\u001b[39m\u001b[38;5;124m'\u001b[39m]))\n",
      "File \u001b[0;32m~/.local/lib/python3.8/site-packages/rl/core.py:341\u001b[0m, in \u001b[0;36mAgent.test\u001b[0;34m(self, env, nb_episodes, action_repetition, callbacks, visualize, nb_max_episode_steps, nb_max_start_steps, start_step_policy, verbose)\u001b[0m\n\u001b[1;32m    338\u001b[0m \u001b[38;5;28;01mwhile\u001b[39;00m \u001b[38;5;129;01mnot\u001b[39;00m done:\n\u001b[1;32m    339\u001b[0m     callbacks\u001b[38;5;241m.\u001b[39mon_step_begin(episode_step)\n\u001b[0;32m--> 341\u001b[0m     action \u001b[38;5;241m=\u001b[39m \u001b[38;5;28;43mself\u001b[39;49m\u001b[38;5;241;43m.\u001b[39;49m\u001b[43mforward\u001b[49m\u001b[43m(\u001b[49m\u001b[43mobservation\u001b[49m\u001b[43m)\u001b[49m\n\u001b[1;32m    342\u001b[0m     \u001b[38;5;28;01mif\u001b[39;00m \u001b[38;5;28mself\u001b[39m\u001b[38;5;241m.\u001b[39mprocessor \u001b[38;5;129;01mis\u001b[39;00m \u001b[38;5;129;01mnot\u001b[39;00m \u001b[38;5;28;01mNone\u001b[39;00m:\n\u001b[1;32m    343\u001b[0m         action \u001b[38;5;241m=\u001b[39m \u001b[38;5;28mself\u001b[39m\u001b[38;5;241m.\u001b[39mprocessor\u001b[38;5;241m.\u001b[39mprocess_action(action)\n",
      "File \u001b[0;32m~/.local/lib/python3.8/site-packages/rl/agents/dqn.py:224\u001b[0m, in \u001b[0;36mDQNAgent.forward\u001b[0;34m(self, observation)\u001b[0m\n\u001b[1;32m    221\u001b[0m \u001b[38;5;28;01mdef\u001b[39;00m \u001b[38;5;21mforward\u001b[39m(\u001b[38;5;28mself\u001b[39m, observation):\n\u001b[1;32m    222\u001b[0m     \u001b[38;5;66;03m# Select an action.\u001b[39;00m\n\u001b[1;32m    223\u001b[0m     state \u001b[38;5;241m=\u001b[39m \u001b[38;5;28mself\u001b[39m\u001b[38;5;241m.\u001b[39mmemory\u001b[38;5;241m.\u001b[39mget_recent_state(observation)\n\u001b[0;32m--> 224\u001b[0m     q_values \u001b[38;5;241m=\u001b[39m \u001b[38;5;28;43mself\u001b[39;49m\u001b[38;5;241;43m.\u001b[39;49m\u001b[43mcompute_q_values\u001b[49m\u001b[43m(\u001b[49m\u001b[43mstate\u001b[49m\u001b[43m)\u001b[49m\n\u001b[1;32m    225\u001b[0m     \u001b[38;5;28;01mif\u001b[39;00m \u001b[38;5;28mself\u001b[39m\u001b[38;5;241m.\u001b[39mtraining:\n\u001b[1;32m    226\u001b[0m         action \u001b[38;5;241m=\u001b[39m \u001b[38;5;28mself\u001b[39m\u001b[38;5;241m.\u001b[39mpolicy\u001b[38;5;241m.\u001b[39mselect_action(q_values\u001b[38;5;241m=\u001b[39mq_values)\n",
      "File \u001b[0;32m~/.local/lib/python3.8/site-packages/rl/agents/dqn.py:68\u001b[0m, in \u001b[0;36mAbstractDQNAgent.compute_q_values\u001b[0;34m(self, state)\u001b[0m\n\u001b[1;32m     67\u001b[0m \u001b[38;5;28;01mdef\u001b[39;00m \u001b[38;5;21mcompute_q_values\u001b[39m(\u001b[38;5;28mself\u001b[39m, state):\n\u001b[0;32m---> 68\u001b[0m     q_values \u001b[38;5;241m=\u001b[39m \u001b[38;5;28;43mself\u001b[39;49m\u001b[38;5;241;43m.\u001b[39;49m\u001b[43mcompute_batch_q_values\u001b[49m\u001b[43m(\u001b[49m\u001b[43m[\u001b[49m\u001b[43mstate\u001b[49m\u001b[43m]\u001b[49m\u001b[43m)\u001b[49m\u001b[38;5;241m.\u001b[39mflatten()\n\u001b[1;32m     69\u001b[0m     \u001b[38;5;28;01massert\u001b[39;00m q_values\u001b[38;5;241m.\u001b[39mshape \u001b[38;5;241m==\u001b[39m (\u001b[38;5;28mself\u001b[39m\u001b[38;5;241m.\u001b[39mnb_actions,)\n\u001b[1;32m     70\u001b[0m     \u001b[38;5;28;01mreturn\u001b[39;00m q_values\n",
      "File \u001b[0;32m~/.local/lib/python3.8/site-packages/rl/agents/dqn.py:63\u001b[0m, in \u001b[0;36mAbstractDQNAgent.compute_batch_q_values\u001b[0;34m(self, state_batch)\u001b[0m\n\u001b[1;32m     61\u001b[0m \u001b[38;5;28;01mdef\u001b[39;00m \u001b[38;5;21mcompute_batch_q_values\u001b[39m(\u001b[38;5;28mself\u001b[39m, state_batch):\n\u001b[1;32m     62\u001b[0m     batch \u001b[38;5;241m=\u001b[39m \u001b[38;5;28mself\u001b[39m\u001b[38;5;241m.\u001b[39mprocess_state_batch(state_batch)\n\u001b[0;32m---> 63\u001b[0m     q_values \u001b[38;5;241m=\u001b[39m \u001b[38;5;28;43mself\u001b[39;49m\u001b[38;5;241;43m.\u001b[39;49m\u001b[43mmodel\u001b[49m\u001b[38;5;241;43m.\u001b[39;49m\u001b[43mpredict_on_batch\u001b[49m\u001b[43m(\u001b[49m\u001b[43mbatch\u001b[49m\u001b[43m)\u001b[49m\n\u001b[1;32m     64\u001b[0m     \u001b[38;5;28;01massert\u001b[39;00m q_values\u001b[38;5;241m.\u001b[39mshape \u001b[38;5;241m==\u001b[39m (\u001b[38;5;28mlen\u001b[39m(state_batch), \u001b[38;5;28mself\u001b[39m\u001b[38;5;241m.\u001b[39mnb_actions)\n\u001b[1;32m     65\u001b[0m     \u001b[38;5;28;01mreturn\u001b[39;00m q_values\n",
      "File \u001b[0;32m~/.local/lib/python3.8/site-packages/tensorflow/python/keras/engine/training_v1.py:1200\u001b[0m, in \u001b[0;36mModel.predict_on_batch\u001b[0;34m(self, x)\u001b[0m\n\u001b[1;32m   1196\u001b[0m   \u001b[38;5;28;01mraise\u001b[39;00m \u001b[38;5;167;01mNotImplementedError\u001b[39;00m(\n\u001b[1;32m   1197\u001b[0m       \u001b[38;5;124m'\u001b[39m\u001b[38;5;124m`predict_on_batch` is not supported for models distributed with\u001b[39m\u001b[38;5;124m'\u001b[39m\n\u001b[1;32m   1198\u001b[0m       \u001b[38;5;124m'\u001b[39m\u001b[38;5;124m tf.distribute.Strategy.\u001b[39m\u001b[38;5;124m'\u001b[39m)\n\u001b[1;32m   1199\u001b[0m \u001b[38;5;66;03m# Validate and standardize user data.\u001b[39;00m\n\u001b[0;32m-> 1200\u001b[0m inputs, _, _ \u001b[38;5;241m=\u001b[39m \u001b[38;5;28;43mself\u001b[39;49m\u001b[38;5;241;43m.\u001b[39;49m\u001b[43m_standardize_user_data\u001b[49m\u001b[43m(\u001b[49m\n\u001b[1;32m   1201\u001b[0m \u001b[43m    \u001b[49m\u001b[43mx\u001b[49m\u001b[43m,\u001b[49m\u001b[43m \u001b[49m\u001b[43mextract_tensors_from_dataset\u001b[49m\u001b[38;5;241;43m=\u001b[39;49m\u001b[38;5;28;43;01mTrue\u001b[39;49;00m\u001b[43m)\u001b[49m\n\u001b[1;32m   1202\u001b[0m \u001b[38;5;66;03m# If `self._distribution_strategy` is True, then we are in a replica context\u001b[39;00m\n\u001b[1;32m   1203\u001b[0m \u001b[38;5;66;03m# at this point.\u001b[39;00m\n\u001b[1;32m   1204\u001b[0m \u001b[38;5;28;01mif\u001b[39;00m \u001b[38;5;28mself\u001b[39m\u001b[38;5;241m.\u001b[39mrun_eagerly \u001b[38;5;129;01mor\u001b[39;00m \u001b[38;5;28mself\u001b[39m\u001b[38;5;241m.\u001b[39m_distribution_strategy:\n",
      "File \u001b[0;32m~/.local/lib/python3.8/site-packages/tensorflow/python/keras/engine/training_v1.py:2328\u001b[0m, in \u001b[0;36mModel._standardize_user_data\u001b[0;34m(self, x, y, sample_weight, class_weight, batch_size, check_steps, steps_name, steps, validation_split, shuffle, extract_tensors_from_dataset)\u001b[0m\n\u001b[1;32m   2324\u001b[0m \u001b[38;5;28;01mif\u001b[39;00m (\u001b[38;5;129;01mnot\u001b[39;00m run_eagerly \u001b[38;5;129;01mand\u001b[39;00m is_build_called \u001b[38;5;129;01mand\u001b[39;00m is_compile_called \u001b[38;5;129;01mand\u001b[39;00m\n\u001b[1;32m   2325\u001b[0m     \u001b[38;5;129;01mnot\u001b[39;00m is_dataset  \u001b[38;5;129;01mand\u001b[39;00m \u001b[38;5;28many\u001b[39m(_is_symbolic_tensor(v) \u001b[38;5;28;01mfor\u001b[39;00m v \u001b[38;5;129;01min\u001b[39;00m all_inputs)):\n\u001b[1;32m   2326\u001b[0m   \u001b[38;5;28;01mreturn\u001b[39;00m [], [], \u001b[38;5;28;01mNone\u001b[39;00m\n\u001b[0;32m-> 2328\u001b[0m \u001b[38;5;28;01mreturn\u001b[39;00m \u001b[38;5;28;43mself\u001b[39;49m\u001b[38;5;241;43m.\u001b[39;49m\u001b[43m_standardize_tensors\u001b[49m\u001b[43m(\u001b[49m\n\u001b[1;32m   2329\u001b[0m \u001b[43m    \u001b[49m\u001b[43mx\u001b[49m\u001b[43m,\u001b[49m\u001b[43m \u001b[49m\u001b[43my\u001b[49m\u001b[43m,\u001b[49m\u001b[43m \u001b[49m\u001b[43msample_weight\u001b[49m\u001b[43m,\u001b[49m\n\u001b[1;32m   2330\u001b[0m \u001b[43m    \u001b[49m\u001b[43mrun_eagerly\u001b[49m\u001b[38;5;241;43m=\u001b[39;49m\u001b[43mrun_eagerly\u001b[49m\u001b[43m,\u001b[49m\n\u001b[1;32m   2331\u001b[0m \u001b[43m    \u001b[49m\u001b[43mdict_inputs\u001b[49m\u001b[38;5;241;43m=\u001b[39;49m\u001b[43mdict_inputs\u001b[49m\u001b[43m,\u001b[49m\n\u001b[1;32m   2332\u001b[0m \u001b[43m    \u001b[49m\u001b[43mis_dataset\u001b[49m\u001b[38;5;241;43m=\u001b[39;49m\u001b[43mis_dataset\u001b[49m\u001b[43m,\u001b[49m\n\u001b[1;32m   2333\u001b[0m \u001b[43m    \u001b[49m\u001b[43mclass_weight\u001b[49m\u001b[38;5;241;43m=\u001b[39;49m\u001b[43mclass_weight\u001b[49m\u001b[43m,\u001b[49m\n\u001b[1;32m   2334\u001b[0m \u001b[43m    \u001b[49m\u001b[43mbatch_size\u001b[49m\u001b[38;5;241;43m=\u001b[39;49m\u001b[43mbatch_size\u001b[49m\u001b[43m)\u001b[49m\n",
      "File \u001b[0;32m~/.local/lib/python3.8/site-packages/tensorflow/python/keras/engine/training_v1.py:2354\u001b[0m, in \u001b[0;36mModel._standardize_tensors\u001b[0;34m(self, x, y, sample_weight, run_eagerly, dict_inputs, is_dataset, class_weight, batch_size)\u001b[0m\n\u001b[1;32m   2351\u001b[0m   feed_input_shapes \u001b[38;5;241m=\u001b[39m \u001b[38;5;28mself\u001b[39m\u001b[38;5;241m.\u001b[39m_feed_input_shapes\n\u001b[1;32m   2353\u001b[0m \u001b[38;5;66;03m# Standardize the inputs.\u001b[39;00m\n\u001b[0;32m-> 2354\u001b[0m \u001b[38;5;28;01mif\u001b[39;00m \u001b[38;5;129;01mnot\u001b[39;00m \u001b[38;5;28;43misinstance\u001b[39;49m\u001b[43m(\u001b[49m\u001b[43mx\u001b[49m\u001b[43m,\u001b[49m\u001b[43m \u001b[49m\u001b[43m(\u001b[49m\u001b[43mdataset_ops\u001b[49m\u001b[38;5;241;43m.\u001b[39;49m\u001b[43mDatasetV1\u001b[49m\u001b[43m,\u001b[49m\u001b[43m \u001b[49m\u001b[43mdataset_ops\u001b[49m\u001b[38;5;241;43m.\u001b[39;49m\u001b[43mDatasetV2\u001b[49m\u001b[43m)\u001b[49m\u001b[43m)\u001b[49m:\n\u001b[1;32m   2355\u001b[0m   \u001b[38;5;66;03m# TODO(fchollet): run static checks with dataset output shape(s).\u001b[39;00m\n\u001b[1;32m   2356\u001b[0m   x \u001b[38;5;241m=\u001b[39m training_utils\u001b[38;5;241m.\u001b[39mstandardize_input_data(\n\u001b[1;32m   2357\u001b[0m       x,\n\u001b[1;32m   2358\u001b[0m       feed_input_names,\n\u001b[1;32m   2359\u001b[0m       feed_input_shapes,\n\u001b[1;32m   2360\u001b[0m       check_batch_axis\u001b[38;5;241m=\u001b[39m\u001b[38;5;28;01mFalse\u001b[39;00m,  \u001b[38;5;66;03m# Don't enforce the batch size.\u001b[39;00m\n\u001b[1;32m   2361\u001b[0m       exception_prefix\u001b[38;5;241m=\u001b[39m\u001b[38;5;124m'\u001b[39m\u001b[38;5;124minput\u001b[39m\u001b[38;5;124m'\u001b[39m)\n\u001b[1;32m   2363\u001b[0m \u001b[38;5;66;03m# Get typespecs for the input data and sanitize it if necessary.\u001b[39;00m\n\u001b[1;32m   2364\u001b[0m \u001b[38;5;66;03m# TODO(momernick): This should be capable of doing full input validation\u001b[39;00m\n\u001b[1;32m   2365\u001b[0m \u001b[38;5;66;03m# at all times - validate that this is so and refactor the standardization\u001b[39;00m\n\u001b[1;32m   2366\u001b[0m \u001b[38;5;66;03m# code.\u001b[39;00m\n",
      "File \u001b[0;32m/usr/lib/python3.8/abc.py:96\u001b[0m, in \u001b[0;36mABCMeta.__instancecheck__\u001b[0;34m(cls, instance)\u001b[0m\n\u001b[1;32m     90\u001b[0m     \u001b[38;5;124;03m\"\"\"Register a virtual subclass of an ABC.\u001b[39;00m\n\u001b[1;32m     91\u001b[0m \n\u001b[1;32m     92\u001b[0m \u001b[38;5;124;03m    Returns the subclass, to allow usage as a class decorator.\u001b[39;00m\n\u001b[1;32m     93\u001b[0m \u001b[38;5;124;03m    \"\"\"\u001b[39;00m\n\u001b[1;32m     94\u001b[0m     \u001b[38;5;28;01mreturn\u001b[39;00m _abc_register(\u001b[38;5;28mcls\u001b[39m, subclass)\n\u001b[0;32m---> 96\u001b[0m \u001b[38;5;28;01mdef\u001b[39;00m \u001b[38;5;21m__instancecheck__\u001b[39m(\u001b[38;5;28mcls\u001b[39m, instance):\n\u001b[1;32m     97\u001b[0m     \u001b[38;5;124;03m\"\"\"Override for isinstance(instance, cls).\"\"\"\u001b[39;00m\n\u001b[1;32m     98\u001b[0m     \u001b[38;5;28;01mreturn\u001b[39;00m _abc_instancecheck(\u001b[38;5;28mcls\u001b[39m, instance)\n",
      "\u001b[0;31mKeyboardInterrupt\u001b[0m: "
     ]
    }
   ],
   "source": [
    "scores = dqn.test(env, nb_episodes=100, visualize=False)\n",
    "print(np.mean(scores.history['episode_reward']))"
   ]
  }
 ],
 "metadata": {
  "kernelspec": {
   "display_name": "Python 3 (ipykernel)",
   "language": "python",
   "name": "python3"
  },
  "language_info": {
   "codemirror_mode": {
    "name": "ipython",
    "version": 3
   },
   "file_extension": ".py",
   "mimetype": "text/x-python",
   "name": "python",
   "nbconvert_exporter": "python",
   "pygments_lexer": "ipython3",
   "version": "3.8.10"
  }
 },
 "nbformat": 4,
 "nbformat_minor": 5
}
