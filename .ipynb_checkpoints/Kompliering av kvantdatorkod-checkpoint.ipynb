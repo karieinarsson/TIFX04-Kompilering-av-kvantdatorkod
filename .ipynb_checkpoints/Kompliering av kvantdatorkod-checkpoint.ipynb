{
 "cells": [
  {
   "cell_type": "code",
   "execution_count": 1,
   "id": "73d21f61",
   "metadata": {},
   "outputs": [
    {
     "name": "stdout",
     "output_type": "stream",
     "text": [
      "Defaulting to user installation because normal site-packages is not writeable\n",
      "Requirement already satisfied: gym in /home/surface/.local/lib/python3.8/site-packages (0.21.0)\n",
      "Requirement already satisfied: numpy>=1.18.0 in /home/surface/.local/lib/python3.8/site-packages (from gym) (1.18.5)\n",
      "Requirement already satisfied: cloudpickle>=1.2.0 in /home/surface/.local/lib/python3.8/site-packages (from gym) (2.0.0)\n"
     ]
    }
   ],
   "source": [
    "!pip install gym"
   ]
  },
  {
   "cell_type": "code",
   "execution_count": 2,
   "id": "afac425d",
   "metadata": {},
   "outputs": [],
   "source": [
    "from gym import Env\n",
    "from gym.spaces import Discrete, Box\n",
    "import numpy as np\n",
    "from enum import Enum"
   ]
  },
  {
   "cell_type": "code",
   "execution_count": 3,
   "id": "eef263e0",
   "metadata": {},
   "outputs": [],
   "source": [
    "def swap(state, action):  \n",
    "    if action == 0: \n",
    "        row0, col0, row1, col1 = 0, 0, 0, 1\n",
    "    elif action == 1: \n",
    "        row0, col0, row1, col1 = 0, 1, 0, 2\n",
    "    elif action == 2:\n",
    "        row0, col0, row1, col1 = 0, 0, 1, 0\n",
    "    elif action == 3:\n",
    "        row0, col0, row1, col1 = 0, 1, 1, 1\n",
    "    elif action == 4:\n",
    "        row0, col0, row1, col1 = 0, 2, 1, 2\n",
    "    elif action == 5:\n",
    "        row0, col0, row1, col1 = 1, 0, 1, 1\n",
    "    elif action == 6:\n",
    "        row0, col0, row1, col1 = 1, 1, 1, 2\n",
    "    elif action == 7:\n",
    "        row0, col0, row1, col1 = 1, 0, 2, 0\n",
    "    elif action == 8:\n",
    "        row0, col0, row1, col1 = 1, 1, 2, 1\n",
    "    elif action == 9:\n",
    "        row0, col0, row1, col1 = 1, 2, 2, 2\n",
    "    elif action == 10:\n",
    "        row0, col0, row1, col1 = 2, 0, 2, 1\n",
    "    elif action == 11:\n",
    "        row0, col0, row1, col1 = 2, 1, 2, 2\n",
    "        \n",
    "    #swap for all future states\n",
    "    for i in range(len(state)):\n",
    "        state[i][row0][col0], state[i][row1][col1] = state[i][row1][col1], state[i][row0][col0]"
   ]
  },
  {
   "cell_type": "code",
   "execution_count": 4,
   "id": "c0bf78a6",
   "metadata": {},
   "outputs": [],
   "source": [
    "def getNeighbors(state, row_number, column_number):\n",
    "    a = [[state[i][j] if  i >= 0 and i < len(state) and j >= 0 and j < len(state[0]) else 0\n",
    "                    for j in range(column_number-1, column_number+2)]\n",
    "                        for i in range(row_number-1, row_number+2)]\n",
    "    return [a[0][1], a[1][0], a[1][2], a[2][1]]"
   ]
  },
  {
   "cell_type": "code",
   "execution_count": 5,
   "id": "bb724d39",
   "metadata": {},
   "outputs": [],
   "source": [
    "#                      [[1,0,0],\n",
    "#Takes in a state like  [1,0,2], and checks if the corresonding numbers are neighbors\n",
    "#                       [2,0,0]]\n",
    "\n",
    "def isExecutableState(state):\n",
    "    for row in range(len(state[0])):\n",
    "        for col in range(len(state[0][0])):\n",
    "            if state[0][row][col] != 0:\n",
    "                if not state[0][row][col] in getNeighbors(state[0], row, col):\n",
    "                    return False\n",
    "    #return bool\n",
    "    return True"
   ]
  },
  {
   "cell_type": "markdown",
   "id": "4d3dd967",
   "metadata": {},
   "source": [
    "testing of the functions isValidState and swap"
   ]
  },
  {
   "cell_type": "code",
   "execution_count": 6,
   "id": "84d2fb44",
   "metadata": {
    "scrolled": false
   },
   "outputs": [
    {
     "name": "stdout",
     "output_type": "stream",
     "text": [
      "[[0 1 2]\n",
      " [0 1 2]\n",
      " [0 0 0]]\n",
      "[[0 1 2]\n",
      " [0 1 2]\n",
      " [0 0 0]]\n",
      "True\n",
      "[[0 2 1]\n",
      " [0 1 2]\n",
      " [0 0 0]]\n",
      "[[0 2 1]\n",
      " [0 1 2]\n",
      " [0 0 0]]\n",
      "False\n"
     ]
    }
   ],
   "source": [
    "arr = np.zeros((10,3,3), dtype=int)\n",
    "arr[0][0][1] = 1\n",
    "arr[0][0][2] = 2\n",
    "arr[0][1][1] = 1\n",
    "arr[0][1][2] = 2\n",
    "arr[1] = arr[0]\n",
    "\n",
    "print(arr[0])\n",
    "print(arr[1])\n",
    "print(isExecutableState(arr))\n",
    "\n",
    "swap(arr, 1)\n",
    "print(arr[0])\n",
    "print(arr[1])\n",
    "print(isExecutableState(arr))"
   ]
  },
  {
   "cell_type": "code",
   "execution_count": 7,
   "id": "cbd7e0eb",
   "metadata": {},
   "outputs": [],
   "source": [
    "def makeState():\n",
    "    state = np.zeros((10,3,3))\n",
    "    for i in range(len(state)):\n",
    "        random = np.random.choice([3,5,7,9])\n",
    "        matrix = np.ceil(np.arange(random)/2)\n",
    "        matrix = np.append(matrix, np.zeros(9-random)).reshape((3,3))\n",
    "        np.random.shuffle(matrix)\n",
    "        state[i] = matrix\n",
    "    return state"
   ]
  },
  {
   "cell_type": "markdown",
   "id": "f3d73f0c",
   "metadata": {},
   "source": [
    "Test function makeState"
   ]
  },
  {
   "cell_type": "code",
   "execution_count": 8,
   "id": "a9331a73",
   "metadata": {
    "scrolled": true
   },
   "outputs": [
    {
     "data": {
      "text/plain": [
       "array([[[0., 0., 0.],\n",
       "        [0., 1., 1.],\n",
       "        [0., 0., 0.]],\n",
       "\n",
       "       [[0., 1., 1.],\n",
       "        [0., 0., 0.],\n",
       "        [0., 0., 0.]],\n",
       "\n",
       "       [[0., 0., 0.],\n",
       "        [0., 1., 1.],\n",
       "        [0., 0., 0.]],\n",
       "\n",
       "       [[0., 1., 1.],\n",
       "        [2., 2., 0.],\n",
       "        [0., 0., 0.]],\n",
       "\n",
       "       [[2., 2., 3.],\n",
       "        [3., 0., 0.],\n",
       "        [0., 1., 1.]],\n",
       "\n",
       "       [[0., 0., 0.],\n",
       "        [2., 2., 0.],\n",
       "        [0., 1., 1.]],\n",
       "\n",
       "       [[0., 1., 1.],\n",
       "        [2., 2., 0.],\n",
       "        [0., 0., 0.]],\n",
       "\n",
       "       [[0., 0., 0.],\n",
       "        [2., 2., 0.],\n",
       "        [0., 1., 1.]],\n",
       "\n",
       "       [[3., 4., 4.],\n",
       "        [2., 2., 3.],\n",
       "        [0., 1., 1.]],\n",
       "\n",
       "       [[0., 1., 1.],\n",
       "        [0., 0., 0.],\n",
       "        [0., 0., 0.]]])"
      ]
     },
     "execution_count": 8,
     "metadata": {},
     "output_type": "execute_result"
    }
   ],
   "source": [
    "makeState()"
   ]
  },
  {
   "cell_type": "code",
   "execution_count": 9,
   "id": "2799f385",
   "metadata": {},
   "outputs": [],
   "source": [
    "#Our enviorment\n",
    "class Kvant(Env):\n",
    "    def __init__(self):\n",
    "        #Actions we can take\n",
    "        self.action_space = Discrete(12)\n",
    "        \n",
    "        #\n",
    "        self.observation_space = Box(low=np.zeros((10,3,3), dtype=int), high=np.zeros((10,3,3), dtype=int)+4)\n",
    "        \n",
    "        #The start state\n",
    "        self.state = makeState()\n",
    "        \n",
    "        #timesteps\n",
    "        self.time_steps = 10\n",
    "        \n",
    "    def step(self, action):\n",
    "        swap(self.state, action)\n",
    "        \n",
    "        self.time_steps -= 1\n",
    "        \n",
    "        if isExecutableState(self.state):\n",
    "            reward = 1\n",
    "        elif self.time_steps <= 0:\n",
    "            reward = -1\n",
    "        else:\n",
    "            reward = -1\n",
    "            \n",
    "    \n",
    "        if isExecutableState(self.state) or self.time_steps <= 0:\n",
    "            done = True\n",
    "        else:\n",
    "            done = False\n",
    "        info = {}\n",
    "        \n",
    "        return self.state, reward, done, info\n",
    "        \n",
    "    def render(self):\n",
    "        pass\n",
    "    def reset(self):\n",
    "        self.state = makeState()\n",
    "        self.time_steps = 10\n",
    "        return self.state"
   ]
  },
  {
   "cell_type": "code",
   "execution_count": 10,
   "id": "d1d22d2c",
   "metadata": {},
   "outputs": [
    {
     "name": "stderr",
     "output_type": "stream",
     "text": [
      "/home/surface/.local/lib/python3.8/site-packages/gym/spaces/box.py:73: UserWarning: \u001b[33mWARN: Box bound precision lowered by casting to float32\u001b[0m\n",
      "  logger.warn(\n"
     ]
    }
   ],
   "source": [
    "env = Kvant()"
   ]
  },
  {
   "cell_type": "code",
   "execution_count": 11,
   "id": "d7b334b3",
   "metadata": {},
   "outputs": [],
   "source": [
    "episodes = 1000\n",
    "scores = []\n",
    "for episode in range(1, episodes+1):\n",
    "    state = env.reset()\n",
    "    done = False\n",
    "    score = 0 \n",
    "    \n",
    "    while not done:\n",
    "        #env.render()\n",
    "        action = env.action_space.sample()\n",
    "        n_state, reward, done, info = env.step(action)\n",
    "        score+=reward\n",
    "    scores.append(score)"
   ]
  },
  {
   "cell_type": "code",
   "execution_count": 12,
   "id": "8eb76926",
   "metadata": {},
   "outputs": [
    {
     "name": "stdout",
     "output_type": "stream",
     "text": [
      "Number of -10 is 506\n",
      "Number of -8 is 7\n",
      "Number of -7 is 8\n",
      "Number of -6 is 21\n",
      "Number of -5 is 17\n",
      "Number of -4 is 22\n",
      "Number of -3 is 25\n",
      "Number of -2 is 21\n",
      "Number of -1 is 33\n",
      "Number of 0 is 49\n",
      "Number of 1 is 291\n"
     ]
    }
   ],
   "source": [
    "for i in range(-100, 2):\n",
    "    if scores.count(i) != 0:\n",
    "        print('Number of', i, 'is', scores.count(i))"
   ]
  },
  {
   "cell_type": "code",
   "execution_count": null,
   "id": "79de7d9b",
   "metadata": {},
   "outputs": [],
   "source": []
  }
 ],
 "metadata": {
  "kernelspec": {
   "display_name": "Python 3 (ipykernel)",
   "language": "python",
   "name": "python3"
  },
  "language_info": {
   "codemirror_mode": {
    "name": "ipython",
    "version": 3
   },
   "file_extension": ".py",
   "mimetype": "text/x-python",
   "name": "python",
   "nbconvert_exporter": "python",
   "pygments_lexer": "ipython3",
   "version": "3.8.10"
  }
 },
 "nbformat": 4,
 "nbformat_minor": 5
}
