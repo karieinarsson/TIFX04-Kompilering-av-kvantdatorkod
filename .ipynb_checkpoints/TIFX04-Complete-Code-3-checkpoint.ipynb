{
 "cells": [
  {
   "cell_type": "markdown",
   "id": "c233a331",
   "metadata": {},
   "source": [
    "# Pip install all needed packages"
   ]
  },
  {
   "cell_type": "code",
   "execution_count": 1,
   "id": "9ea530d6",
   "metadata": {
    "scrolled": true
   },
   "outputs": [
    {
     "name": "stdout",
     "output_type": "stream",
     "text": [
      "Defaulting to user installation because normal site-packages is not writeable\n",
      "Requirement already satisfied: gym in /home/surface/.local/lib/python3.8/site-packages (0.19.0)\n",
      "Requirement already satisfied: numpy>=1.18.0 in /home/surface/.local/lib/python3.8/site-packages (from gym) (1.18.5)\n",
      "Requirement already satisfied: cloudpickle<1.7.0,>=1.2.0 in /home/surface/.local/lib/python3.8/site-packages (from gym) (1.6.0)\n",
      "Defaulting to user installation because normal site-packages is not writeable\n",
      "Requirement already satisfied: stable_baselines3 in /home/surface/.local/lib/python3.8/site-packages (1.4.0)\n",
      "Requirement already satisfied: cloudpickle in /home/surface/.local/lib/python3.8/site-packages (from stable_baselines3) (1.6.0)\n",
      "Requirement already satisfied: matplotlib in /home/surface/.local/lib/python3.8/site-packages (from stable_baselines3) (3.3.2)\n",
      "Requirement already satisfied: numpy in /home/surface/.local/lib/python3.8/site-packages (from stable_baselines3) (1.18.5)\n",
      "Requirement already satisfied: torch>=1.8.1 in /home/surface/.local/lib/python3.8/site-packages (from stable_baselines3) (1.10.1)\n",
      "Requirement already satisfied: pandas in /home/surface/.local/lib/python3.8/site-packages (from stable_baselines3) (1.1.4)\n",
      "Requirement already satisfied: gym<0.20,>=0.17 in /home/surface/.local/lib/python3.8/site-packages (from stable_baselines3) (0.19.0)\n",
      "Requirement already satisfied: typing-extensions in /home/surface/.local/lib/python3.8/site-packages (from torch>=1.8.1->stable_baselines3) (4.0.1)\n",
      "Requirement already satisfied: pyparsing!=2.0.4,!=2.1.2,!=2.1.6,>=2.0.3 in /home/surface/.local/lib/python3.8/site-packages (from matplotlib->stable_baselines3) (2.4.7)\n",
      "Requirement already satisfied: certifi>=2020.06.20 in /home/surface/.local/lib/python3.8/site-packages (from matplotlib->stable_baselines3) (2021.10.8)\n",
      "Requirement already satisfied: python-dateutil>=2.1 in /usr/lib/python3/dist-packages (from matplotlib->stable_baselines3) (2.7.3)\n",
      "Requirement already satisfied: kiwisolver>=1.0.1 in /home/surface/.local/lib/python3.8/site-packages (from matplotlib->stable_baselines3) (1.3.1)\n",
      "Requirement already satisfied: cycler>=0.10 in /home/surface/.local/lib/python3.8/site-packages (from matplotlib->stable_baselines3) (0.10.0)\n",
      "Requirement already satisfied: pillow>=6.2.0 in /usr/lib/python3/dist-packages (from matplotlib->stable_baselines3) (7.0.0)\n",
      "Requirement already satisfied: pytz>=2017.2 in /usr/lib/python3/dist-packages (from pandas->stable_baselines3) (2019.3)\n",
      "Requirement already satisfied: six in /usr/lib/python3/dist-packages (from cycler>=0.10->matplotlib->stable_baselines3) (1.14.0)\n",
      "Defaulting to user installation because normal site-packages is not writeable\n",
      "Requirement already satisfied: numpy in /home/surface/.local/lib/python3.8/site-packages (1.18.5)\n"
     ]
    }
   ],
   "source": [
    "!pip install gym\n",
    "!pip install stable_baselines3\n",
    "!pip install numpy"
   ]
  },
  {
   "cell_type": "markdown",
   "id": "66b9ccec",
   "metadata": {},
   "source": [
    "# Imports"
   ]
  },
  {
   "cell_type": "code",
   "execution_count": 2,
   "id": "afac425d",
   "metadata": {},
   "outputs": [],
   "source": [
    "from gym import Env\n",
    "from gym.spaces import Discrete, Box\n",
    "import numpy as np\n",
    "import math\n",
    "\n",
    "from stable_baselines3 import DQN\n",
    "from stable_baselines3.common.evaluation import evaluate_policy"
   ]
  },
  {
   "cell_type": "markdown",
   "id": "0fc17f30",
   "metadata": {},
   "source": [
    "# Global variables"
   ]
  },
  {
   "cell_type": "code",
   "execution_count": 3,
   "id": "bb5fbb1e",
   "metadata": {},
   "outputs": [],
   "source": [
    "depthOfCode = 5\n",
    "rows = 3\n",
    "cols = 2\n",
    "usedQubits = []\n",
    "maxSwapsPerTimeStep = math.floor(rows*cols/2)"
   ]
  },
  {
   "cell_type": "code",
   "execution_count": 4,
   "id": "aebeed23",
   "metadata": {},
   "outputs": [
    {
     "name": "stdout",
     "output_type": "stream",
     "text": [
      "[ 0  1  2  3  4  5  6  7  8  9 10 11 12 13 14 15 16 17 18 19 20 21 22 23\n",
      " 24 25 26 27 28 29]\n",
      "[[[ 0  1]\n",
      "  [ 2  3]\n",
      "  [ 4  5]]\n",
      "\n",
      " [[ 6  7]\n",
      "  [ 8  9]\n",
      "  [10 11]]\n",
      "\n",
      " [[12 13]\n",
      "  [14 15]\n",
      "  [16 17]]\n",
      "\n",
      " [[18 19]\n",
      "  [20 21]\n",
      "  [22 23]]\n",
      "\n",
      " [[24 25]\n",
      "  [26 27]\n",
      "  [28 29]]]\n",
      "[ 0  1  2  3  4  5  6  7  8  9 10 11 12 13 14 15 16 17 18 19 20 21 22 23\n",
      " 24 25 26 27 28 29]\n"
     ]
    }
   ],
   "source": [
    "a = np.arange(depthOfCode*rows*cols)\n",
    "print(a)\n",
    "b = a.reshape((depthOfCode, rows, cols))\n",
    "print(b)\n",
    "c = b.reshape(depthOfCode*rows*cols)\n",
    "print(c)"
   ]
  },
  {
   "cell_type": "markdown",
   "id": "416222a3",
   "metadata": {},
   "source": [
    "# Functions"
   ]
  },
  {
   "cell_type": "code",
   "execution_count": 5,
   "id": "f6e0add5",
   "metadata": {},
   "outputs": [],
   "source": [
    "# swap is given actions which is a tuple of actions or a action, where every action is a tuple with the values\n",
    "# of two qubits (x, y) whos values should be swaped. x and y are ints between 0 and 8 corresponding to \n",
    "# the following qubit notation:\n",
    "#         [[0, 1, 2],\n",
    "#          [3, 4, 5],\n",
    "#          [6, 7, 8]]\n",
    "\n",
    "# ex. of a tuple of actions: ((0, 3), (4, 5), (7, 8))\n",
    "\n",
    "# ex. of a single action: (0, 1)\n",
    "\n",
    "# in the case of a single action we make a list out of it so it's iterable to minimize code\n",
    "def swap(state, actions):\n",
    "    if type(actions[0]) != tuple:\n",
    "        actions = [actions]\n",
    "    for action in actions:\n",
    "        pos0, pos1 = action\n",
    "\n",
    "        for i in range(depthOfCode):\n",
    "            state[pos0+i*cols], state[pos1+i*cols] = state[pos1+i*cols], state[pos0+i*cols]\n"
   ]
  },
  {
   "cell_type": "code",
   "execution_count": 6,
   "id": "a9917c9e",
   "metadata": {},
   "outputs": [],
   "source": [
    "# getNeighbors returns a list of the qubit notations of all neighbors to a specific qubit. \n",
    "# I.e. qubits above, below, right and left of the specific qubit.\n",
    "\n",
    "def getNeighbors(state, row_number, column_number):\n",
    "    a = [[state[i][j] if  i >= 0 and i < len(state) and j >= 0 and j < len(state[0]) else -1\n",
    "                    for j in range(column_number-1, column_number+2)]\n",
    "                        for i in range(row_number-1, row_number+2)]\n",
    "    return [a[0][1], a[1][0], a[1][2], a[2][1]]"
   ]
  },
  {
   "cell_type": "code",
   "execution_count": 7,
   "id": "4fad7168",
   "metadata": {},
   "outputs": [],
   "source": [
    "#                         [[1,0,0], [[1,0,0],   [[1,0,0],         [[1,0,0],  \n",
    "# Takes in a state like [  [1,0,2],  [1,0,2], ,  [1,0,2], , ... ,  [1,0,2], ] and checks if all the pairs of \n",
    "#                          [2,0,0]]  [2,0,0]]    [2,0,0]]          [2,0,0]] \n",
    "# numbers in the first slice are neighbors and if so returns True else returns False\n",
    "\n",
    "def isExecutableState(state):\n",
    "    state = state.reshape((depthOfCode, rows, cols))\n",
    "    for row in range(len(state[0])):\n",
    "        for col in range(len(state[0][0])):\n",
    "            if state[0][row][col] > 0:\n",
    "                if not state[0][row][col] in getNeighbors(state[0], row, col):\n",
    "                    return False\n",
    "\n",
    "    return True"
   ]
  },
  {
   "cell_type": "code",
   "execution_count": 8,
   "id": "7b13a3f9",
   "metadata": {},
   "outputs": [],
   "source": [
    "# We use this once to get all the different swap combinations. I.e. all acceptable combinations of one to four\n",
    "# swaps. This are the different actions we cound make in one timestep.\n",
    "\n",
    "def getPossibleActions(maxSwapsPerTimeStep):\n",
    "    state = np.arange(rows*cols).reshape((rows,cols))\n",
    "    \n",
    "    possibleActions = getPossibleActionsSub(state, usedQubits, maxSwapsPerTimeStep)\n",
    "    \n",
    "    possibleActions = set(map(lambda x: tuple(sorted(x)), possibleActions ))\n",
    "    \n",
    "    possibleActions = list(possibleActions)\n",
    "    possibleActions.append((0, 0))\n",
    "    \n",
    "    return possibleActions\n",
    "    \n",
    "def getPossibleActionsSub(state, used, maxSwapsPerTimeStep):\n",
    "    if maxSwapsPerTimeStep == 0:\n",
    "        return np.asarray([])\n",
    "    \n",
    "    possibleActions = []\n",
    "    \n",
    "    for i in range(len(state)):\n",
    "        for j in range(len(state[0])):\n",
    "            \n",
    "            usedtmp = used.copy()\n",
    "            \n",
    "            if not state[i][j] in usedtmp:\n",
    "                neighbors = getNeighbors(state, i, j)\n",
    "                for neighbor in neighbors:\n",
    "                    if neighbor >= 0 and not (neighbor, state[i][j]) in possibleActions and not neighbor in usedtmp:\n",
    "                        possibleActions.append((state[i][j], neighbor))\n",
    "                        usedtmp.append(state[i][j])\n",
    "                        usedtmp.append(neighbor)\n",
    " \n",
    "                        for action in getPossibleActionsSub(state, usedtmp, maxSwapsPerTimeStep-1):\n",
    "                            if type(action) == tuple:\n",
    "                                possibleActions.append([(state[i][j], neighbor), action])\n",
    "                            elif type(action) == list:\n",
    "                                action.append((state[i][j], neighbor))\n",
    "                                possibleActions.append(action)\n",
    "                                \n",
    "        \n",
    "    return possibleActions"
   ]
  },
  {
   "cell_type": "code",
   "execution_count": 9,
   "id": "cb62eb70",
   "metadata": {},
   "outputs": [],
   "source": [
    "# Creates a shuffled Matrix simulatinga slice of quantum code with one to max amount \n",
    "# of operations per timestep\n",
    "\n",
    "# Ex1. [[0, 1, 0],\n",
    "#       [1, 2, 2],\n",
    "#       [3, 0, 3]]\n",
    "\n",
    "# Ex2. [[2, 1],\n",
    "#       [2, 1]]\n",
    "\n",
    "def makeStateSlice():\n",
    "    random = np.random.choice([x for x in range(2, rows*cols+2) if x % 2])\n",
    "    stateSlice = np.ceil(np.arange(1, random)/2)\n",
    "    stateSlice = np.append(stateSlice, np.zeros(rows*cols-random+1))\n",
    "    np.random.shuffle(stateSlice)\n",
    "    return stateSlice.reshape((rows,cols))"
   ]
  },
  {
   "cell_type": "code",
   "execution_count": 10,
   "id": "c49c3b4d",
   "metadata": {},
   "outputs": [],
   "source": [
    "# Makes a state out of depthOfCode amount of slices\n",
    "def makeState():\n",
    "    state = np.zeros((depthOfCode,rows,cols))\n",
    "    for i in range(len(state)):\n",
    "        state[i] = makeStateSlice()\n",
    "    return state.reshape(depthOfCode*rows*cols)"
   ]
  },
  {
   "cell_type": "markdown",
   "id": "47d76067",
   "metadata": {},
   "source": [
    "# Enviotment definition and sub functions"
   ]
  },
  {
   "cell_type": "code",
   "execution_count": 11,
   "id": "487831d6",
   "metadata": {},
   "outputs": [],
   "source": [
    "possibleActions = getPossibleActions( maxSwapsPerTimeStep )"
   ]
  },
  {
   "cell_type": "code",
   "execution_count": 12,
   "id": "7bec6cef",
   "metadata": {},
   "outputs": [
    {
     "name": "stdout",
     "output_type": "stream",
     "text": [
      "22\n"
     ]
    }
   ],
   "source": [
    "print(len(possibleActions))"
   ]
  },
  {
   "cell_type": "code",
   "execution_count": 13,
   "id": "2799f385",
   "metadata": {},
   "outputs": [],
   "source": [
    "#Our enviorment\n",
    "class Kvant(Env):\n",
    "    def __init__(self):\n",
    "        #array of possible actions\n",
    "        self.possibleActions = possibleActions\n",
    "\n",
    "        #Number of actions we can take\n",
    "        self.action_space = Discrete(len(self.possibleActions))\n",
    "        \n",
    "        #\n",
    "        self.observation_space = Box(low=0, high=math.floor(rows*cols/2), shape=(depthOfCode*rows*cols, ), dtype=np.int)\n",
    "        \n",
    "        #The start state\n",
    "        self.state = makeState()\n",
    "        \n",
    "        #max amount of layers per episode\n",
    "        self.maxLayers = depthOfCode\n",
    "        \n",
    "    def step(self, action):\n",
    "        \n",
    "        actions = self.possibleActions[action]\n",
    "\n",
    "        swap(self.state, actions)\n",
    "         \n",
    "        \n",
    "        # Rewards \n",
    "        reward = -1\n",
    "        \n",
    "        if isExecutableState(self.state):\n",
    "            if actions == (0,0):\n",
    "                reward = 0\n",
    "            \n",
    "            # remove the exicutable slice and add a new random slice at the tail\n",
    "            self.state = np.roll(self.state, -1, axis = 0)\n",
    "            self.state[depthOfCode - 1] = makeStateSlice()\n",
    "            \n",
    "            self.maxLayers -= 1\n",
    "            \n",
    "            # we are not done except if this was the last layer we can work on this episode\n",
    "            if self.maxLayers <= 0:\n",
    "                done = True\n",
    "            else:\n",
    "                done = False\n",
    "            \n",
    "        else:\n",
    "            done = False\n",
    "        \n",
    "        info = {}\n",
    "        \n",
    "        return self.state, reward, done, info\n",
    "        \n",
    "    def render(self):\n",
    "        pass\n",
    "    \n",
    "    def reset(self):\n",
    "        self.state = makeState()\n",
    "        self.maxLayers = depthOfCode\n",
    "        return self.state"
   ]
  },
  {
   "cell_type": "code",
   "execution_count": null,
   "id": "0f8904eb",
   "metadata": {},
   "outputs": [],
   "source": [
    "from stable_baselines3.common.env_checker import check_env\n",
    "env = Kvant()\n",
    "check_env(env)"
   ]
  },
  {
   "cell_type": "code",
   "execution_count": null,
   "id": "e41123e4",
   "metadata": {},
   "outputs": [
    {
     "name": "stdout",
     "output_type": "stream",
     "text": [
      "ERROR! Session/line number was not unique in database. History logging moved to new session 174\n"
     ]
    }
   ],
   "source": [
    "env = Kvant()\n",
    "\n",
    "episodes = 1000\n",
    "scores = []\n",
    "for episode in range(1, episodes+1):\n",
    "    state = env.reset()\n",
    "    done = False\n",
    "    score = 0 \n",
    "    \n",
    "    while not done:\n",
    "        #env.render()\n",
    "        action = env.action_space.sample()\n",
    "        n_state, reward, done, info = env.step(action)\n",
    "        score+=reward\n",
    "    scores.append(score)\n",
    "print(np.mean(scores))"
   ]
  },
  {
   "cell_type": "markdown",
   "id": "fbfea943",
   "metadata": {},
   "source": [
    "# DQN agent shit"
   ]
  },
  {
   "cell_type": "markdown",
   "id": "93e0c858",
   "metadata": {},
   "source": [
    "## Make a dynamic save name"
   ]
  },
  {
   "cell_type": "code",
   "execution_count": null,
   "id": "2e18ac1a",
   "metadata": {},
   "outputs": [
    {
     "name": "stdout",
     "output_type": "stream",
     "text": [
      "Using cpu device\n",
      "Wrapping the env with a `Monitor` wrapper\n",
      "Wrapping the env in a DummyVecEnv.\n",
      "ERROR! Session/line number was not unique in database. History logging moved to new session 175\n",
      "Wrapping the env with a `Monitor` wrapper\n",
      "Wrapping the env in a DummyVecEnv.\n"
     ]
    }
   ],
   "source": [
    "# Create environment\n",
    "env = Kvant()\n",
    "\n",
    "# Instantiate the agent\n",
    "model = DQN('MlpPolicy', env, verbose=1, exploration_final_eps = 0.1)\n",
    "\n",
    "# Train the agent\n",
    "\n",
    "\n",
    "\n",
    "# Save the agent\n",
    "model.save(\"KvantShit\")\n",
    "\n",
    "# delete trained model to demonstrate loading\n",
    "del model  \n",
    "\n",
    "# Load the trained agent\n",
    "# NOTE: if you have loading issue, you can pass `print_system_info=True`\n",
    "# to compare the system on which the model was trained vs the current one\n",
    "# model = DQN.load(\"dqn_lunar\", env=env, print_system_info=True)\n",
    "model = DQN.load(\"KvantShit\", env=env)\n",
    "\n",
    "# Evaluate the agent\n",
    "# NOTE: If you use wrappers with your environment that modify rewards,\n",
    "#       this will be reflected here. To evaluate with original rewards,\n",
    "#       wrap environment in a \"Monitor\" wrapper before other wrappers.\n",
    "mean_reward, std_reward = evaluate_policy(model, model.get_env(), n_eval_episodes=10)"
   ]
  },
  {
   "cell_type": "code",
   "execution_count": null,
   "id": "9d33c89e",
   "metadata": {},
   "outputs": [],
   "source": [
    "print(mean_reward)"
   ]
  },
  {
   "cell_type": "code",
   "execution_count": null,
   "id": "e526ae5e",
   "metadata": {},
   "outputs": [],
   "source": [
    "env = Kvant()\n",
    "episodes = 1000\n",
    "scores = []\n",
    "for episode in range(1, episodes+1):\n",
    "    state = env.reset()\n",
    "    done = False\n",
    "    score = 0 \n",
    "    \n",
    "    while not done:\n",
    "        #env.render()\n",
    "        action = env.action_space.sample()\n",
    "        n_state, reward, done, info = env.step(action)\n",
    "        score+=reward\n",
    "    scores.append(score)\n",
    "print(np.mean(scores))"
   ]
  },
  {
   "cell_type": "code",
   "execution_count": null,
   "id": "1a2b7afd",
   "metadata": {},
   "outputs": [],
   "source": []
  }
 ],
 "metadata": {
  "kernelspec": {
   "display_name": "Python 3 (ipykernel)",
   "language": "python",
   "name": "python3"
  },
  "language_info": {
   "codemirror_mode": {
    "name": "ipython",
    "version": 3
   },
   "file_extension": ".py",
   "mimetype": "text/x-python",
   "name": "python",
   "nbconvert_exporter": "python",
   "pygments_lexer": "ipython3",
   "version": "3.8.10"
  }
 },
 "nbformat": 4,
 "nbformat_minor": 5
}
