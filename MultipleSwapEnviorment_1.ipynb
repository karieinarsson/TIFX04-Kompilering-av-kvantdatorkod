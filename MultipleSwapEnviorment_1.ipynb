{
 "cells": [
  {
   "cell_type": "markdown",
   "id": "29789fc2",
   "metadata": {},
   "source": [
    "# Pip install all needed packages"
   ]
  },
  {
   "cell_type": "code",
   "execution_count": 1,
   "id": "9ea530d6",
   "metadata": {
    "scrolled": false
   },
   "outputs": [
    {
     "name": "stdout",
     "output_type": "stream",
     "text": [
      "Defaulting to user installation because normal site-packages is not writeable\n",
      "Requirement already satisfied: gym in /home/surface/.local/lib/python3.8/site-packages (0.21.0)\n",
      "Requirement already satisfied: numpy>=1.18.0 in /home/surface/.local/lib/python3.8/site-packages (from gym) (1.18.5)\n",
      "Requirement already satisfied: cloudpickle>=1.2.0 in /home/surface/.local/lib/python3.8/site-packages (from gym) (2.0.0)\n"
     ]
    }
   ],
   "source": [
    "!pip install gym"
   ]
  },
  {
   "cell_type": "markdown",
   "id": "091c5384",
   "metadata": {},
   "source": [
    "# Imports"
   ]
  },
  {
   "cell_type": "code",
   "execution_count": 2,
   "id": "afac425d",
   "metadata": {},
   "outputs": [],
   "source": [
    "from gym import Env\n",
    "from gym.spaces import Discrete, Box\n",
    "import numpy as np"
   ]
  },
  {
   "cell_type": "markdown",
   "id": "eaaabff3",
   "metadata": {},
   "source": [
    "# Global variables"
   ]
  },
  {
   "cell_type": "code",
   "execution_count": 26,
   "id": "9216cc28",
   "metadata": {},
   "outputs": [],
   "source": [
    "depth = 10\n",
    "rows = 3\n",
    "cols = 3"
   ]
  },
  {
   "cell_type": "markdown",
   "id": "ab6fe248",
   "metadata": {},
   "source": [
    "# Functions"
   ]
  },
  {
   "cell_type": "code",
   "execution_count": 50,
   "id": "f4b1e2ce",
   "metadata": {},
   "outputs": [],
   "source": [
    "# find coords of actions with algorithm\n",
    "def swap(state, actions):\n",
    "    if type(actions[0]) != tuple:\n",
    "        actions = [actions]\n",
    "    for action in actions:\n",
    "        pos0, pos1 = action\n",
    "        \n",
    "        row0 = int((pos0-(pos0%rows))/cols)\n",
    "        col0 = int(pos0 - row0*3)    \n",
    "        row1 = int((pos1-(pos1%rows))/cols)\n",
    "        col1 = int(pos1 - row1*3)\n",
    "        \n",
    "        for i in range(len(state)):\n",
    "            state[i][row0][col0], state[i][row1][col1] = state[i][row1][col1], state[i][row0][col0]\n"
   ]
  },
  {
   "cell_type": "code",
   "execution_count": 35,
   "id": "d64428ac",
   "metadata": {},
   "outputs": [
    {
     "name": "stdout",
     "output_type": "stream",
     "text": [
      "2\n",
      "5\n"
     ]
    }
   ],
   "source": [
    "state = np.arange(9).reshape((3,3))\n",
    "actions = (2, 5)\n",
    "\n",
    "swap(state, actions)"
   ]
  },
  {
   "cell_type": "code",
   "execution_count": 3,
   "id": "eef263e0",
   "metadata": {},
   "outputs": [],
   "source": [
    "# swap is given actions which is a tuple of actions or a action, where every action is a tuple with the values\n",
    "# of two qubits (x, y) whos values should be swaped. x and y are ints between 0 and 8 corresponding to \n",
    "# the following qubit notation:\n",
    "#         [[0, 1, 2],\n",
    "#          [3, 4, 5],\n",
    "#          [6, 7, 8]]\n",
    "\n",
    "# ex. of a tuple of actions: ((0, 3), (4, 5), (7, 8))\n",
    "\n",
    "# ex. of a single action: (0, 1)\n",
    "\n",
    "# in the case of a single action we make a list out of it so it's iterable to minimize code\n",
    "\n",
    "def swap(state, actions):\n",
    "    if type(actions[0]) != tuple:\n",
    "        actions = [actions]\n",
    "    for action in actions:\n",
    "        if action == (0, 1) or action == (1, 0): \n",
    "            row0, col0 = 0, 0\n",
    "            row1, col1 = 0, 1\n",
    "        elif action == (1, 2) or action == (2, 1):  \n",
    "            row0, col0 = 0, 2\n",
    "            row1, col1 = 0, 1\n",
    "        elif action == (0, 3) or action == (3, 0): \n",
    "            row0, col0 = 1, 0\n",
    "            row1, col1 = 0, 0\n",
    "        elif action == (4, 1) or action == (1, 4): \n",
    "            row0, col0 = 1, 1\n",
    "            row1, col1 = 0, 1\n",
    "        elif action == (2, 5) or action == (5, 2): \n",
    "            row0, col0 = 1, 2\n",
    "            row1, col1 = 0, 2\n",
    "        elif action == (3, 4) or action == (4, 3): \n",
    "            row0, col0 = 1, 1\n",
    "            row1, col1 = 1, 0\n",
    "        elif action == (4, 5) or action == (5, 4): \n",
    "            row0, col0 = 1, 2\n",
    "            row1, col1 = 1, 1\n",
    "        elif action == (3, 6) or action == (6, 3): \n",
    "            row0, col0 = 2, 0\n",
    "            row1, col1 = 1, 0\n",
    "        elif action == (4, 7) or action == (7, 4): \n",
    "            row0, col0 = 2, 1\n",
    "            row1, col1 = 1, 1\n",
    "        elif action == (5, 8) or action == (8, 5): \n",
    "            row0, col0 = 2, 2\n",
    "            row1, col1 = 1, 2\n",
    "        elif action == (7, 6) or action == (6, 7): \n",
    "            row0, col0 = 2, 1\n",
    "            row1, col1 = 2, 0\n",
    "        elif action == (7, 8) or action == (8, 7): \n",
    "            row0, col0 = 2, 2\n",
    "            row1, col1 = 2, 1\n",
    "        else:\n",
    "            return\n",
    "\n",
    "        #swap for all future states\n",
    "        for i in range(len(state)):\n",
    "            state[i][row0][col0], state[i][row1][col1] = state[i][row1][col1], state[i][row0][col0]"
   ]
  },
  {
   "cell_type": "code",
   "execution_count": 37,
   "id": "a9917c9e",
   "metadata": {},
   "outputs": [],
   "source": [
    "# getNeighbors returns a list of the qubit notations of all neighbors to a specific qubit. \n",
    "# I.e. qubits above, below, right and left of the specific qubit.\n",
    "\n",
    "def getNeighbors(state, row_number, column_number):\n",
    "    a = [[state[i][j] if  i >= 0 and i < len(state) and j >= 0 and j < len(state[0]) else -1\n",
    "                    for j in range(column_number-1, column_number+2)]\n",
    "                        for i in range(row_number-1, row_number+2)]\n",
    "    return [a[0][1], a[1][0], a[1][2], a[2][1]]"
   ]
  },
  {
   "cell_type": "code",
   "execution_count": 38,
   "id": "4fad7168",
   "metadata": {},
   "outputs": [],
   "source": [
    "#                         [[1,0,0], [[1,0,0],   [[1,0,0],         [[1,0,0],  \n",
    "# Takes in a state like [  [1,0,2],  [1,0,2], ,  [1,0,2], , ... ,  [1,0,2], ] and checks if all the pairs of \n",
    "#                          [2,0,0]]  [2,0,0]]    [2,0,0]]          [2,0,0]] \n",
    "# numbers in the first slice are neighbors and if so returns True else returns False\n",
    "\n",
    "def isExecutableState(state):\n",
    "    for row in range(len(state[0])):\n",
    "        for col in range(len(state[0][0])):\n",
    "            if state[0][row][col] > 0:\n",
    "                if not state[0][row][col] in getNeighbors(state[0], row, col):\n",
    "                    return False\n",
    "\n",
    "    return True"
   ]
  },
  {
   "cell_type": "code",
   "execution_count": 39,
   "id": "7b13a3f9",
   "metadata": {},
   "outputs": [],
   "source": [
    "# We use this once to get all the different swap combinations. I.e. all acceptable combinations of one to four\n",
    "# swaps. This are the different actions we cound make in one timestep.\n",
    "\n",
    "def getPossibleActions(depth=4):\n",
    "    state = np.arange(9).reshape((3,3))\n",
    "    \n",
    "    possibleActions = getPossibleActionsSub(state, [], depth)\n",
    "    \n",
    "    possibleActions = set(map(lambda x: tuple(sorted(x)), possibleActions ))\n",
    "    \n",
    "    possibleActions = list(possibleActions)\n",
    "    possibleActions.append((0, 0))\n",
    "    \n",
    "    return possibleActions\n",
    "    \n",
    "def getPossibleActionsSub(state, used, depth):\n",
    "    if depth == 0:\n",
    "        return np.asarray([])\n",
    "    \n",
    "    possibleActions = []\n",
    "    \n",
    "    for i in range(len(state)):\n",
    "        for j in range(len(state[0])):\n",
    "            \n",
    "            usedtmp = used.copy()\n",
    "            \n",
    "            if not state[i][j] in usedtmp:\n",
    "                neighbors = getNeighbors(state, i, j)\n",
    "                for neighbor in neighbors:\n",
    "                    if neighbor >= 0 and  not (neighbor, state[i][j]) in possibleActions and not neighbor in usedtmp:\n",
    "                        possibleActions.append((state[i][j], neighbor))\n",
    "                        usedtmp.append(state[i][j])\n",
    "                        usedtmp.append(neighbor)\n",
    " \n",
    "                        for action in getPossibleActionsSub(state, usedtmp, depth-1):\n",
    "                            if type(action) == tuple:\n",
    "                                possibleActions.append([(state[i][j], neighbor), action])\n",
    "                            elif type(action) == list:\n",
    "                                action.append((state[i][j], neighbor))\n",
    "                                possibleActions.append(action)\n",
    "                                \n",
    "        \n",
    "    return possibleActions"
   ]
  },
  {
   "cell_type": "code",
   "execution_count": 40,
   "id": "cb62eb70",
   "metadata": {},
   "outputs": [],
   "source": [
    "def makeStateSlice():\n",
    "    random = np.random.choice([3,5,7,9])\n",
    "    stateSlice = np.ceil(np.arange(random)/2)\n",
    "    stateSlice = np.append(stateSlice, np.zeros(9-random)).reshape((3,3))\n",
    "    np.random.shuffle(stateSlice)\n",
    "    return stateSlice"
   ]
  },
  {
   "cell_type": "code",
   "execution_count": 41,
   "id": "c49c3b4d",
   "metadata": {},
   "outputs": [],
   "source": [
    "def makeState():\n",
    "    state = np.zeros((10,3,3))\n",
    "    for i in range(len(state)):\n",
    "        state[i] = makeStateSlice()\n",
    "    return state"
   ]
  },
  {
   "cell_type": "markdown",
   "id": "261467a4",
   "metadata": {},
   "source": [
    "# Tests of the functions"
   ]
  },
  {
   "cell_type": "code",
   "execution_count": 51,
   "id": "54b19075",
   "metadata": {
    "scrolled": false
   },
   "outputs": [
    {
     "name": "stdout",
     "output_type": "stream",
     "text": [
      "131\n",
      "((2, 5), (7, 8))\n",
      "[[0. 1. 5.]\n",
      " [3. 4. 2.]\n",
      " [6. 8. 7.]]\n"
     ]
    }
   ],
   "source": [
    "state = np.zeros((10,3,3))\n",
    "for i in range(len(state)):\n",
    "    state[i] = np.arange(9).reshape((3,3))\n",
    "\n",
    "#print(state)\n",
    "\n",
    "possibleActions = getPossibleActions()\n",
    "print(len(possibleActions))\n",
    "#print(possibleActions)\n",
    "\n",
    "a = possibleActions[0]\n",
    "\n",
    "print(a)\n",
    "\n",
    "statetmp = np.arange(9).reshape((3,3))\n",
    "\n",
    "swap(state, a)\n",
    "\n",
    "print(state[0])\n",
    "\n",
    "#for i in range(len(possibleActions)):\n",
    "#output = set(map(lambda x: tuple(sorted(x)),possibleActions))\n",
    "\n",
    "#print(len(output))"
   ]
  },
  {
   "cell_type": "markdown",
   "id": "b8ca4fda",
   "metadata": {},
   "source": [
    "testing of the functions isExecutableState and swap"
   ]
  },
  {
   "cell_type": "code",
   "execution_count": 43,
   "id": "c0d9a767",
   "metadata": {
    "scrolled": true
   },
   "outputs": [
    {
     "name": "stdout",
     "output_type": "stream",
     "text": [
      "[[0 1 2]\n",
      " [0 1 2]\n",
      " [0 0 0]]\n",
      "[[0 1 2]\n",
      " [0 1 2]\n",
      " [0 0 0]]\n",
      "True\n"
     ]
    },
    {
     "ename": "ValueError",
     "evalue": "not enough values to unpack (expected 2, got 1)",
     "output_type": "error",
     "traceback": [
      "\u001b[0;31m---------------------------------------------------------------------------\u001b[0m",
      "\u001b[0;31mValueError\u001b[0m                                Traceback (most recent call last)",
      "Input \u001b[0;32mIn [43]\u001b[0m, in \u001b[0;36m<module>\u001b[0;34m\u001b[0m\n\u001b[1;32m      9\u001b[0m \u001b[38;5;28mprint\u001b[39m(arr[\u001b[38;5;241m1\u001b[39m])\n\u001b[1;32m     10\u001b[0m \u001b[38;5;28mprint\u001b[39m(isExecutableState(arr))\n\u001b[0;32m---> 12\u001b[0m \u001b[43mswap\u001b[49m\u001b[43m(\u001b[49m\u001b[43marr\u001b[49m\u001b[43m,\u001b[49m\u001b[43m \u001b[49m\u001b[43m(\u001b[49m\u001b[38;5;241;43m1\u001b[39;49m\u001b[43m,\u001b[49m\u001b[43m \u001b[49m\u001b[38;5;241;43m2\u001b[39;49m\u001b[43m)\u001b[49m\u001b[43m)\u001b[49m\n\u001b[1;32m     13\u001b[0m \u001b[38;5;28mprint\u001b[39m(arr[\u001b[38;5;241m0\u001b[39m])\n\u001b[1;32m     14\u001b[0m \u001b[38;5;28mprint\u001b[39m(arr[\u001b[38;5;241m1\u001b[39m])\n",
      "Input \u001b[0;32mIn [36]\u001b[0m, in \u001b[0;36mswap\u001b[0;34m(state, actions)\u001b[0m\n\u001b[1;32m      4\u001b[0m     actions \u001b[38;5;241m=\u001b[39m [actions]\n\u001b[1;32m      5\u001b[0m \u001b[38;5;28;01mfor\u001b[39;00m action \u001b[38;5;129;01min\u001b[39;00m actions:\n\u001b[0;32m----> 6\u001b[0m     pos0, pos1 \u001b[38;5;241m=\u001b[39m actions\n\u001b[1;32m      8\u001b[0m     row0 \u001b[38;5;241m=\u001b[39m \u001b[38;5;28mint\u001b[39m((pos0\u001b[38;5;241m-\u001b[39m(pos0\u001b[38;5;241m%\u001b[39mrows))\u001b[38;5;241m/\u001b[39mcols)\n\u001b[1;32m      9\u001b[0m     col0 \u001b[38;5;241m=\u001b[39m \u001b[38;5;28mint\u001b[39m(pos0 \u001b[38;5;241m-\u001b[39m row0\u001b[38;5;241m*\u001b[39m\u001b[38;5;241m3\u001b[39m)    \n",
      "\u001b[0;31mValueError\u001b[0m: not enough values to unpack (expected 2, got 1)"
     ]
    }
   ],
   "source": [
    "arr = np.zeros((10,3,3), dtype=int)\n",
    "arr[0][0][1] = 1\n",
    "arr[0][0][2] = 2\n",
    "arr[0][1][1] = 1\n",
    "arr[0][1][2] = 2\n",
    "arr[1] = arr[0]\n",
    "\n",
    "print(arr[0])\n",
    "print(arr[1])\n",
    "print(isExecutableState(arr))\n",
    "\n",
    "swap(arr, (1, 2))\n",
    "print(arr[0])\n",
    "print(arr[1])\n",
    "print(isExecutableState(arr))\n",
    "\n",
    "swap(arr, (0, 0))\n",
    "print(arr[0])\n",
    "print(arr[1])\n",
    "print(isExecutableState(arr))"
   ]
  },
  {
   "cell_type": "markdown",
   "id": "25c6a18b",
   "metadata": {},
   "source": [
    "Test function makeState"
   ]
  },
  {
   "cell_type": "code",
   "execution_count": 44,
   "id": "e703db6a",
   "metadata": {
    "scrolled": false
   },
   "outputs": [
    {
     "name": "stdout",
     "output_type": "stream",
     "text": [
      "[[[0. 1. 1.]\n",
      "  [2. 2. 3.]\n",
      "  [3. 0. 0.]]\n",
      "\n",
      " [[2. 2. 0.]\n",
      "  [0. 1. 1.]\n",
      "  [0. 0. 0.]]\n",
      "\n",
      " [[2. 2. 3.]\n",
      "  [3. 0. 0.]\n",
      "  [0. 1. 1.]]\n",
      "\n",
      " [[2. 2. 3.]\n",
      "  [3. 4. 4.]\n",
      "  [0. 1. 1.]]\n",
      "\n",
      " [[0. 1. 1.]\n",
      "  [2. 2. 0.]\n",
      "  [0. 0. 0.]]\n",
      "\n",
      " [[0. 1. 1.]\n",
      "  [0. 0. 0.]\n",
      "  [0. 0. 0.]]\n",
      "\n",
      " [[0. 1. 1.]\n",
      "  [0. 0. 0.]\n",
      "  [2. 2. 0.]]\n",
      "\n",
      " [[0. 1. 1.]\n",
      "  [3. 0. 0.]\n",
      "  [2. 2. 3.]]\n",
      "\n",
      " [[0. 1. 1.]\n",
      "  [2. 2. 3.]\n",
      "  [3. 4. 4.]]\n",
      "\n",
      " [[0. 1. 1.]\n",
      "  [3. 0. 0.]\n",
      "  [2. 2. 3.]]]\n"
     ]
    }
   ],
   "source": [
    "print(makeState())"
   ]
  },
  {
   "cell_type": "markdown",
   "id": "5ee06ad2",
   "metadata": {},
   "source": [
    "# Enviotment definition and sub functions"
   ]
  },
  {
   "cell_type": "code",
   "execution_count": 45,
   "id": "2799f385",
   "metadata": {},
   "outputs": [],
   "source": [
    "#Our enviorment\n",
    "class Kvant(Env):\n",
    "    def __init__(self):\n",
    "        #array of possible actions\n",
    "        self.possibleActions = getPossibleActions()\n",
    "        #self.possibleActions = getPossibleActions(1) #this for only 1 swap at a time\n",
    "        \n",
    "        #Number of actions we can take\n",
    "        self.action_space = Discrete(len(self.possibleActions))\n",
    "        \n",
    "        #\n",
    "        self.observation_space = Box(low=np.zeros((10,3,3), dtype=int), high=np.zeros((10,3,3), dtype=int)+4)\n",
    "        \n",
    "        #The start state\n",
    "        self.state = makeState()\n",
    "        \n",
    "        #max amount of swaps between layers\n",
    "        self.maxSwaps = 5\n",
    "        \n",
    "        #max amount of layers per episode\n",
    "        self.maxLayers = 10\n",
    "        \n",
    "    def step(self, action):\n",
    "        \n",
    "        actions = self.possibleActions[action]\n",
    "\n",
    "        swap(self.state, actions)\n",
    "        \n",
    "        self.maxSwaps -= 1\n",
    "        \n",
    "        if isExecutableState(self.state):\n",
    "            # if the current slice is Exicutable then give the reward 5\n",
    "            reward = 5\n",
    "            \n",
    "            # reset the maxSwaps to 5\n",
    "            self.maxSwaps = 5\n",
    "            \n",
    "            # remove the exicutable slice and add a new random slice at the tail\n",
    "            self.state = np.roll(self.state, -1, axis = 0)\n",
    "            self.state[9] = makeStateSlice()\n",
    "            \n",
    "            self.maxLayers -= 1\n",
    "            \n",
    "            # we are not done except if this was the last layer we can work on this episode\n",
    "            if self.maxLayers <= 0:\n",
    "                done = True\n",
    "            else:\n",
    "                done = False\n",
    "            \n",
    "        elif self.maxSwaps <= 0:\n",
    "            done = True\n",
    "            reward = -1\n",
    "        \n",
    "        else:\n",
    "            done = False\n",
    "            reward = -1\n",
    "            \n",
    "        info = {}\n",
    "        \n",
    "        return self.state, reward, done, info\n",
    "        \n",
    "    def render(self):\n",
    "        pass\n",
    "    \n",
    "    def reset(self):\n",
    "        self.state = makeState()\n",
    "        self.maxSwaps = 5\n",
    "        self.maxLayers = 10\n",
    "        return self.state"
   ]
  },
  {
   "cell_type": "markdown",
   "id": "5a154ad5",
   "metadata": {},
   "source": [
    "# Testing the enviorment"
   ]
  },
  {
   "cell_type": "code",
   "execution_count": 46,
   "id": "458bdcb0",
   "metadata": {},
   "outputs": [
    {
     "name": "stderr",
     "output_type": "stream",
     "text": [
      "/home/surface/.local/lib/python3.8/site-packages/gym/spaces/box.py:73: UserWarning: \u001b[33mWARN: Box bound precision lowered by casting to float32\u001b[0m\n",
      "  logger.warn(\n"
     ]
    }
   ],
   "source": [
    "env = Kvant()"
   ]
  },
  {
   "cell_type": "markdown",
   "id": "6c7905fb",
   "metadata": {},
   "source": [
    "## test just random actions"
   ]
  },
  {
   "cell_type": "code",
   "execution_count": 47,
   "id": "7b989b89",
   "metadata": {
    "scrolled": false
   },
   "outputs": [
    {
     "ename": "TypeError",
     "evalue": "unsupported operand type(s) for %: 'tuple' and 'int'",
     "output_type": "error",
     "traceback": [
      "\u001b[0;31m---------------------------------------------------------------------------\u001b[0m",
      "\u001b[0;31mTypeError\u001b[0m                                 Traceback (most recent call last)",
      "Input \u001b[0;32mIn [47]\u001b[0m, in \u001b[0;36m<module>\u001b[0;34m\u001b[0m\n\u001b[1;32m      8\u001b[0m \u001b[38;5;28;01mwhile\u001b[39;00m \u001b[38;5;129;01mnot\u001b[39;00m done:\n\u001b[1;32m      9\u001b[0m     action \u001b[38;5;241m=\u001b[39m env\u001b[38;5;241m.\u001b[39maction_space\u001b[38;5;241m.\u001b[39msample()\n\u001b[0;32m---> 10\u001b[0m     n_state, reward, done, info \u001b[38;5;241m=\u001b[39m \u001b[43menv\u001b[49m\u001b[38;5;241;43m.\u001b[39;49m\u001b[43mstep\u001b[49m\u001b[43m(\u001b[49m\u001b[43maction\u001b[49m\u001b[43m)\u001b[49m\n\u001b[1;32m     11\u001b[0m     score\u001b[38;5;241m+\u001b[39m\u001b[38;5;241m=\u001b[39mreward\n\u001b[1;32m     12\u001b[0m scores\u001b[38;5;241m.\u001b[39mappend(score)\n",
      "Input \u001b[0;32mIn [45]\u001b[0m, in \u001b[0;36mKvant.step\u001b[0;34m(self, action)\u001b[0m\n\u001b[1;32m     23\u001b[0m \u001b[38;5;28;01mdef\u001b[39;00m \u001b[38;5;21mstep\u001b[39m(\u001b[38;5;28mself\u001b[39m, action):\n\u001b[1;32m     25\u001b[0m     actions \u001b[38;5;241m=\u001b[39m \u001b[38;5;28mself\u001b[39m\u001b[38;5;241m.\u001b[39mpossibleActions[action]\n\u001b[0;32m---> 27\u001b[0m     \u001b[43mswap\u001b[49m\u001b[43m(\u001b[49m\u001b[38;5;28;43mself\u001b[39;49m\u001b[38;5;241;43m.\u001b[39;49m\u001b[43mstate\u001b[49m\u001b[43m,\u001b[49m\u001b[43m \u001b[49m\u001b[43mactions\u001b[49m\u001b[43m)\u001b[49m\n\u001b[1;32m     29\u001b[0m     \u001b[38;5;28mself\u001b[39m\u001b[38;5;241m.\u001b[39mmaxSwaps \u001b[38;5;241m-\u001b[39m\u001b[38;5;241m=\u001b[39m \u001b[38;5;241m1\u001b[39m\n\u001b[1;32m     31\u001b[0m     \u001b[38;5;28;01mif\u001b[39;00m isExecutableState(\u001b[38;5;28mself\u001b[39m\u001b[38;5;241m.\u001b[39mstate):\n\u001b[1;32m     32\u001b[0m         \u001b[38;5;66;03m# if the current slice is Exicutable then give the reward 5\u001b[39;00m\n",
      "Input \u001b[0;32mIn [36]\u001b[0m, in \u001b[0;36mswap\u001b[0;34m(state, actions)\u001b[0m\n\u001b[1;32m      5\u001b[0m \u001b[38;5;28;01mfor\u001b[39;00m action \u001b[38;5;129;01min\u001b[39;00m actions:\n\u001b[1;32m      6\u001b[0m     pos0, pos1 \u001b[38;5;241m=\u001b[39m actions\n\u001b[0;32m----> 8\u001b[0m     row0 \u001b[38;5;241m=\u001b[39m \u001b[38;5;28mint\u001b[39m((pos0\u001b[38;5;241m-\u001b[39m(\u001b[43mpos0\u001b[49m\u001b[38;5;241;43m%\u001b[39;49m\u001b[43mrows\u001b[49m))\u001b[38;5;241m/\u001b[39mcols)\n\u001b[1;32m      9\u001b[0m     col0 \u001b[38;5;241m=\u001b[39m \u001b[38;5;28mint\u001b[39m(pos0 \u001b[38;5;241m-\u001b[39m row0\u001b[38;5;241m*\u001b[39m\u001b[38;5;241m3\u001b[39m)    \n\u001b[1;32m     10\u001b[0m     row1 \u001b[38;5;241m=\u001b[39m \u001b[38;5;28mint\u001b[39m((pos1\u001b[38;5;241m-\u001b[39m(pos1\u001b[38;5;241m%\u001b[39mrows))\u001b[38;5;241m/\u001b[39mcols)\n",
      "\u001b[0;31mTypeError\u001b[0m: unsupported operand type(s) for %: 'tuple' and 'int'"
     ]
    }
   ],
   "source": [
    "episodes = 1000\n",
    "scores = []\n",
    "for episode in range(1, episodes+1):\n",
    "    state = env.reset()\n",
    "    done = False\n",
    "    score = 0 \n",
    "    \n",
    "    while not done:\n",
    "        action = env.action_space.sample()\n",
    "        n_state, reward, done, info = env.step(action)\n",
    "        score+=reward\n",
    "    scores.append(score)"
   ]
  },
  {
   "cell_type": "code",
   "execution_count": 48,
   "id": "07588959",
   "metadata": {},
   "outputs": [
    {
     "ename": "ValueError",
     "evalue": "min() arg is an empty sequence",
     "output_type": "error",
     "traceback": [
      "\u001b[0;31m---------------------------------------------------------------------------\u001b[0m",
      "\u001b[0;31mValueError\u001b[0m                                Traceback (most recent call last)",
      "Input \u001b[0;32mIn [48]\u001b[0m, in \u001b[0;36m<module>\u001b[0;34m\u001b[0m\n\u001b[0;32m----> 1\u001b[0m \u001b[38;5;28;01mfor\u001b[39;00m i \u001b[38;5;129;01min\u001b[39;00m \u001b[38;5;28mrange\u001b[39m(\u001b[38;5;28;43mmin\u001b[39;49m\u001b[43m(\u001b[49m\u001b[43mscores\u001b[49m\u001b[43m)\u001b[49m, \u001b[38;5;28mmax\u001b[39m(scores)\u001b[38;5;241m+\u001b[39m\u001b[38;5;241m1\u001b[39m):\n\u001b[1;32m      2\u001b[0m     \u001b[38;5;28;01mif\u001b[39;00m scores\u001b[38;5;241m.\u001b[39mcount(i) \u001b[38;5;241m!=\u001b[39m \u001b[38;5;241m0\u001b[39m:\n\u001b[1;32m      3\u001b[0m         \u001b[38;5;28mprint\u001b[39m(\u001b[38;5;124m'\u001b[39m\u001b[38;5;124mNumber of\u001b[39m\u001b[38;5;124m'\u001b[39m, i, \u001b[38;5;124m'\u001b[39m\u001b[38;5;124mis\u001b[39m\u001b[38;5;124m'\u001b[39m, scores\u001b[38;5;241m.\u001b[39mcount(i))\n",
      "\u001b[0;31mValueError\u001b[0m: min() arg is an empty sequence"
     ]
    }
   ],
   "source": [
    "for i in range(min(scores), max(scores)+1):\n",
    "    if scores.count(i) != 0:\n",
    "        print('Number of', i, 'is', scores.count(i))"
   ]
  },
  {
   "cell_type": "code",
   "execution_count": null,
   "id": "63b5d7ec",
   "metadata": {},
   "outputs": [],
   "source": []
  },
  {
   "cell_type": "code",
   "execution_count": null,
   "id": "a8bc9563",
   "metadata": {},
   "outputs": [],
   "source": []
  }
 ],
 "metadata": {
  "kernelspec": {
   "display_name": "Python 3 (ipykernel)",
   "language": "python",
   "name": "python3"
  },
  "language_info": {
   "codemirror_mode": {
    "name": "ipython",
    "version": 3
   },
   "file_extension": ".py",
   "mimetype": "text/x-python",
   "name": "python",
   "nbconvert_exporter": "python",
   "pygments_lexer": "ipython3",
   "version": "3.8.10"
  }
 },
 "nbformat": 4,
 "nbformat_minor": 5
}
