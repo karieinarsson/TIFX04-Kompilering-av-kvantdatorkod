{
 "cells": [
  {
   "cell_type": "code",
   "execution_count": 1,
   "id": "9ea530d6",
   "metadata": {},
   "outputs": [
    {
     "name": "stdout",
     "output_type": "stream",
     "text": [
      "Defaulting to user installation because normal site-packages is not writeable\n",
      "Requirement already satisfied: gym in /home/surface/.local/lib/python3.8/site-packages (0.21.0)\n",
      "Requirement already satisfied: numpy>=1.18.0 in /home/surface/.local/lib/python3.8/site-packages (from gym) (1.18.5)\n",
      "Requirement already satisfied: cloudpickle>=1.2.0 in /home/surface/.local/lib/python3.8/site-packages (from gym) (2.0.0)\n"
     ]
    }
   ],
   "source": [
    "!pip install gym"
   ]
  },
  {
   "cell_type": "code",
   "execution_count": 2,
   "id": "afac425d",
   "metadata": {},
   "outputs": [],
   "source": [
    "from gym import Env\n",
    "from gym.spaces import Discrete, Box\n",
    "import numpy as np\n",
    "from enum import Enum"
   ]
  },
  {
   "cell_type": "code",
   "execution_count": 154,
   "id": "7b13a3f9",
   "metadata": {},
   "outputs": [],
   "source": [
    "def getPossibleActions(depth=4):\n",
    "    state = np.arange(9).reshape((3,3))\n",
    "    \n",
    "    possibleActions = getPossibleActionsSub(state, [], depth)\n",
    "    \n",
    "    possibleActions = set(map(lambda x: tuple(sorted(x)), possibleActions ))\n",
    "    possibleActions = list(possibleActions)\n",
    "    \n",
    "    \n",
    "    return possibleActions\n",
    "    \n",
    "def getPossibleActionsSub(state, used, depth):\n",
    "    if depth == 0:\n",
    "        return np.asarray([])\n",
    "    \n",
    "    possibleActions = []\n",
    "    \n",
    "    for i in range(len(statetmp)):\n",
    "        for j in range(len(statetmp[0])):\n",
    "            \n",
    "            usedtmp = used.copy()\n",
    "            \n",
    "            if not statetmp[i][j] in usedtmp:\n",
    "                neighbors = getNeighbors(statetmp, i, j)\n",
    "                for neighbor in neighbors:\n",
    "                    if neighbor >= 0 and  not (neighbor, statetmp[i][j]) in possibleActions and not neighbor in usedtmp:\n",
    "                        possibleActions.append((statetmp[i][j], neighbor))\n",
    "                        usedtmp.append(statetmp[i][j])\n",
    "                        usedtmp.append(neighbor)\n",
    " \n",
    "                        for action in getPossibleActionsSub(state, usedtmp, depth-1):\n",
    "                            if type(action) == tuple:\n",
    "                                possibleActions.append([(statetmp[i][j], neighbor), action])\n",
    "                            elif type(action) == list:\n",
    "                                action.append((statetmp[i][j], neighbor))\n",
    "                                possibleActions.append(action)\n",
    "                                \n",
    "        \n",
    "    return possibleActions"
   ]
  },
  {
   "cell_type": "markdown",
   "id": "ae0ad5e5",
   "metadata": {},
   "source": [
    "testing if possibleActions is correct"
   ]
  },
  {
   "cell_type": "code",
   "execution_count": 100,
   "id": "54b19075",
   "metadata": {
    "scrolled": false
   },
   "outputs": [
    {
     "name": "stdout",
     "output_type": "stream",
     "text": [
      "<class 'tuple'>\n",
      "[[0. 1. 5.]\n",
      " [3. 4. 2.]\n",
      " [6. 7. 8.]]\n"
     ]
    }
   ],
   "source": [
    "state = np.zeros((10,3,3))\n",
    "for i in range(len(state)):\n",
    "    state[i] = np.arange(9).reshape((3,3))\n",
    "\n",
    "#print(state)\n",
    "\n",
    "possibleActions = getPossibleActions()\n",
    "#print(len(possibleActions))\n",
    "#print(possibleActions)\n",
    "\n",
    "a = possibleActions[0]\n",
    "\n",
    "\n",
    "\n",
    "print(type(a[0]))\n",
    "\n",
    "statetmp = np.arange(9).reshape((3,3))\n",
    "\n",
    "swap(state, a[0])\n",
    "\n",
    "print(state[0])\n",
    "\n",
    "#for i in range(len(possibleActions)):\n",
    "#output = set(map(lambda x: tuple(sorted(x)),possibleActions))\n",
    "\n",
    "#print(len(output))"
   ]
  },
  {
   "cell_type": "code",
   "execution_count": 40,
   "id": "0d0cec34",
   "metadata": {},
   "outputs": [
    {
     "data": {
      "text/plain": [
       "Discrete(130)"
      ]
     },
     "execution_count": 40,
     "metadata": {},
     "output_type": "execute_result"
    }
   ],
   "source": []
  },
  {
   "cell_type": "code",
   "execution_count": null,
   "id": "163f5038",
   "metadata": {},
   "outputs": [],
   "source": []
  },
  {
   "cell_type": "code",
   "execution_count": null,
   "id": "cd80cf90",
   "metadata": {
    "scrolled": true
   },
   "outputs": [],
   "source": [
    "possibleActions = []\n",
    "\n",
    "statetmp = np.arange(9).reshape((3,3))\n",
    "\n",
    "for i in range(len(statetmp[0])):\n",
    "    for j in range(len(statetmp[0][0])):\n",
    "        neighbors = getNeighbors(statetmp, i, j)\n",
    "        for neighbor in neighbors:\n",
    "            used = []\n",
    "            if neighbor >= 0:#and not [(neighbor, statetmp[i][j])] in possibleActions:\n",
    "                possibleActions.append([statetmp[i][j], neighbor])\n",
    "                used.append(statetmp[i][j])\n",
    "                used.append(neighbor)\n",
    "                \n",
    "                \n",
    "            \n",
    "            for x in range(len(statetmp[0])):\n",
    "                for y in range(len(statetmp[0][0])):\n",
    "                    tmp = used\n",
    "                    qubit = statetmp[x][y]\n",
    "                    if not qubit in tmp:\n",
    "                        if neighbor >= 0:# and not [(neighbor, statetmp[i][j])] in possibleActions:\n",
    "                            possibleActions.append([statetmp[i][j], neighbor])\n",
    "                            tmp.append(statetmp[i][j])\n",
    "                            tmp.append(neighbor)\n",
    "\n",
    "            \n",
    "                \n",
    "print(possibleActions) \n",
    "print(len(possibleActions))"
   ]
  },
  {
   "cell_type": "code",
   "execution_count": 98,
   "id": "eef263e0",
   "metadata": {},
   "outputs": [],
   "source": [
    "def swap(state, actions):\n",
    "    if type(actions[0]) != tuple:\n",
    "        actions = [actions]\n",
    "    for action in actions:\n",
    "        if action == (0, 1) or action == (1, 0): \n",
    "            row0, col0, row1, col1 = 0, 0, 0, 1\n",
    "        elif action == (1, 2) or action == (2, 1):  \n",
    "            row0, col0, row1, col1 = 0, 1, 0, 2\n",
    "        elif action == (0, 3) or action == (3, 0): \n",
    "            row0, col0, row1, col1 = 0, 0, 1, 0\n",
    "        elif action == (4, 1) or action == (1, 4): \n",
    "            row0, col0, row1, col1 = 0, 0, 1, 1\n",
    "        elif action == (2, 5) or action == (5, 2): \n",
    "            row0, col0, row1, col1 = 0, 2, 1, 2\n",
    "        elif action == (3, 4) or action == (4, 3): \n",
    "            row0, col0, row1, col1 = 1, 0, 1, 1\n",
    "        elif action == (4, 5) or action == (5, 4): \n",
    "            row0, col0, row1, col1 = 1, 1, 1, 2\n",
    "        elif action == (3, 6) or action == (6, 3): \n",
    "            row0, col0, row1, col1 = 1, 0, 2, 0\n",
    "        elif action == (4, 7) or action == (7, 4): \n",
    "            row0, col0, row1, col1 = 1, 0, 2, 1\n",
    "        elif action == (5, 8) or action == (8, 5): \n",
    "            row0, col0, row1, col1 = 1, 0, 2, 2\n",
    "        elif action == (7, 6) or action == (6, 7): \n",
    "            row0, col0, row1, col1 = 2, 0, 2, 1\n",
    "        elif action == (7, 8) or action == (8, 7): \n",
    "            row0, col0, row1, col1 = 2, 1, 2, 2\n",
    "\n",
    "        #swap for all future states\n",
    "        for i in range(len(state)):\n",
    "            state[i][row0][col0], state[i][row1][col1] = state[i][row1][col1], state[i][row0][col0]"
   ]
  },
  {
   "cell_type": "code",
   "execution_count": 79,
   "id": "a9917c9e",
   "metadata": {},
   "outputs": [],
   "source": [
    "def getNeighbors(state, row_number, column_number):\n",
    "    a = [[state[i][j] if  i >= 0 and i < len(state) and j >= 0 and j < len(state[0]) else -1\n",
    "                    for j in range(column_number-1, column_number+2)]\n",
    "                        for i in range(row_number-1, row_number+2)]\n",
    "    return [a[0][1], a[1][0], a[1][2], a[2][1]]"
   ]
  },
  {
   "cell_type": "code",
   "execution_count": 49,
   "id": "4fad7168",
   "metadata": {},
   "outputs": [],
   "source": [
    "#                      [[1,0,0],\n",
    "#Takes in a state like  [1,0,2], and checks if the corresonding numbers are neighbors\n",
    "#                       [2,0,0]]\n",
    "\n",
    "def isExecutableState(state):\n",
    "    for row in range(len(state[0])):\n",
    "        for col in range(len(state[0][0])):\n",
    "            if state[0][row][col] > 0:\n",
    "                if not state[0][row][col] in getNeighbors(state[0], row, col):\n",
    "                    return False\n",
    "    #return bool\n",
    "    return True"
   ]
  },
  {
   "cell_type": "markdown",
   "id": "b8ca4fda",
   "metadata": {},
   "source": [
    "testing of the functions isValidState and swap"
   ]
  },
  {
   "cell_type": "code",
   "execution_count": null,
   "id": "c0d9a767",
   "metadata": {
    "scrolled": false
   },
   "outputs": [],
   "source": [
    "arr = np.zeros((10,3,3), dtype=int)\n",
    "arr[0][0][1] = 1\n",
    "arr[0][0][2] = 2\n",
    "arr[0][1][1] = 1\n",
    "arr[0][1][2] = 2\n",
    "arr[1] = arr[0]\n",
    "\n",
    "print(arr[0])\n",
    "print(arr[1])\n",
    "print(isExecutableState(arr))\n",
    "\n",
    "swap(arr, 1)\n",
    "print(arr[0])\n",
    "print(arr[1])\n",
    "print(isExecutableState(arr))"
   ]
  },
  {
   "cell_type": "code",
   "execution_count": 50,
   "id": "c49c3b4d",
   "metadata": {},
   "outputs": [],
   "source": [
    "def makeState():\n",
    "    state = np.zeros((10,3,3))\n",
    "    for i in range(len(state)):\n",
    "        random = np.random.choice([3,5,7,9])\n",
    "        matrix = np.ceil(np.arange(random)/2)\n",
    "        matrix = np.append(matrix, np.zeros(9-random)).reshape((3,3))\n",
    "        np.random.shuffle(matrix)\n",
    "        state[i] = matrix\n",
    "    return state"
   ]
  },
  {
   "cell_type": "markdown",
   "id": "25c6a18b",
   "metadata": {},
   "source": [
    "Test function makeState"
   ]
  },
  {
   "cell_type": "code",
   "execution_count": null,
   "id": "e703db6a",
   "metadata": {
    "scrolled": true
   },
   "outputs": [],
   "source": [
    "makeState()"
   ]
  },
  {
   "cell_type": "code",
   "execution_count": 159,
   "id": "2799f385",
   "metadata": {},
   "outputs": [],
   "source": [
    "#Our enviorment\n",
    "class Kvant(Env):\n",
    "    def __init__(self):\n",
    "        #Actions we can take\n",
    "        #self.action_space = Discrete(130)\n",
    "        self.action_space = Discrete(12)\n",
    "        #\n",
    "        self.observation_space = Box(low=np.zeros((10,3,3), dtype=int), high=np.zeros((10,3,3), dtype=int)+4)\n",
    "        \n",
    "        #The start state\n",
    "        self.state = makeState()\n",
    "        \n",
    "        #possible actions\n",
    "        #self.possibleActions = getPossibleActions()\n",
    "        self.possibleActions = getPossibleActions(1)\n",
    "        \n",
    "        #timesteps\n",
    "        self.timeSteps = 100\n",
    "        \n",
    "    def step(self, action):\n",
    "        \n",
    "        actions = self.possibleActions[action]\n",
    "        #print(actions)\n",
    "        #for a in actions:\n",
    "        swap(self.state, a)\n",
    "        \n",
    "        self.time_steps -= 1\n",
    "        \n",
    "        if isExecutableState(self.state):\n",
    "            reward = 1\n",
    "        elif self.time_steps <= 0:\n",
    "            reward = -1\n",
    "        else:\n",
    "            reward = -1\n",
    "            \n",
    "    \n",
    "        if isExecutableState(self.state) or self.time_steps <= 0:\n",
    "            done = True\n",
    "        else:\n",
    "            done = False\n",
    "        info = {}\n",
    "        \n",
    "        return self.state, reward, done, info\n",
    "        \n",
    "    def render(self):\n",
    "        pass\n",
    "    \n",
    "    def reset(self):\n",
    "        self.state = makeState()\n",
    "        self.time_steps = 100\n",
    "        return self.state"
   ]
  },
  {
   "cell_type": "code",
   "execution_count": 160,
   "id": "ae24433d",
   "metadata": {
    "scrolled": true
   },
   "outputs": [],
   "source": [
    "env = Kvant()"
   ]
  },
  {
   "cell_type": "code",
   "execution_count": 162,
   "id": "7b989b89",
   "metadata": {
    "scrolled": false
   },
   "outputs": [],
   "source": [
    "episodes = 1000\n",
    "scores = []\n",
    "for episode in range(1, episodes+1):\n",
    "    state = env.reset()\n",
    "    done = False\n",
    "    score = 0 \n",
    "    \n",
    "    while not done:\n",
    "        #env.render()\n",
    "        action = env.action_space.sample()\n",
    "        n_state, reward, done, info = env.step(action)\n",
    "        score+=reward\n",
    "    scores.append(score)"
   ]
  },
  {
   "cell_type": "code",
   "execution_count": 164,
   "id": "07588959",
   "metadata": {},
   "outputs": [
    {
     "name": "stdout",
     "output_type": "stream",
     "text": [
      "Number of -100 is 513\n",
      "Number of -99 is 0\n",
      "Number of -98 is 0\n",
      "Number of -97 is 0\n",
      "Number of -96 is 0\n",
      "Number of -95 is 0\n",
      "Number of -94 is 0\n",
      "Number of -93 is 0\n",
      "Number of -92 is 0\n",
      "Number of -91 is 0\n",
      "Number of -90 is 0\n",
      "Number of -89 is 0\n",
      "Number of -88 is 0\n",
      "Number of -87 is 0\n",
      "Number of -86 is 0\n",
      "Number of -85 is 0\n",
      "Number of -84 is 0\n",
      "Number of -83 is 0\n",
      "Number of -82 is 0\n",
      "Number of -81 is 0\n",
      "Number of -80 is 0\n",
      "Number of -79 is 0\n",
      "Number of -78 is 0\n",
      "Number of -77 is 0\n",
      "Number of -76 is 0\n",
      "Number of -75 is 0\n",
      "Number of -74 is 0\n",
      "Number of -73 is 0\n",
      "Number of -72 is 0\n",
      "Number of -71 is 0\n",
      "Number of -70 is 0\n",
      "Number of -69 is 0\n",
      "Number of -68 is 0\n",
      "Number of -67 is 0\n",
      "Number of -66 is 0\n",
      "Number of -65 is 0\n",
      "Number of -64 is 0\n",
      "Number of -63 is 0\n",
      "Number of -62 is 0\n",
      "Number of -61 is 0\n",
      "Number of -60 is 0\n",
      "Number of -59 is 0\n",
      "Number of -58 is 0\n",
      "Number of -57 is 0\n",
      "Number of -56 is 0\n",
      "Number of -55 is 0\n",
      "Number of -54 is 0\n",
      "Number of -53 is 0\n",
      "Number of -52 is 0\n",
      "Number of -51 is 0\n",
      "Number of -50 is 0\n",
      "Number of -49 is 0\n",
      "Number of -48 is 0\n",
      "Number of -47 is 0\n",
      "Number of -46 is 0\n",
      "Number of -45 is 0\n",
      "Number of -44 is 0\n",
      "Number of -43 is 0\n",
      "Number of -42 is 0\n",
      "Number of -41 is 0\n",
      "Number of -40 is 0\n",
      "Number of -39 is 0\n",
      "Number of -38 is 0\n",
      "Number of -37 is 0\n",
      "Number of -36 is 0\n",
      "Number of -35 is 0\n",
      "Number of -34 is 0\n",
      "Number of -33 is 0\n",
      "Number of -32 is 0\n",
      "Number of -31 is 0\n",
      "Number of -30 is 0\n",
      "Number of -29 is 0\n",
      "Number of -28 is 0\n",
      "Number of -27 is 0\n",
      "Number of -26 is 0\n",
      "Number of -25 is 0\n",
      "Number of -24 is 0\n",
      "Number of -23 is 0\n",
      "Number of -22 is 0\n",
      "Number of -21 is 0\n",
      "Number of -20 is 0\n",
      "Number of -19 is 0\n",
      "Number of -18 is 0\n",
      "Number of -17 is 0\n",
      "Number of -16 is 0\n",
      "Number of -15 is 0\n",
      "Number of -14 is 0\n",
      "Number of -13 is 0\n",
      "Number of -12 is 0\n",
      "Number of -11 is 0\n",
      "Number of -10 is 0\n",
      "Number of -9 is 0\n",
      "Number of -8 is 0\n",
      "Number of -7 is 0\n",
      "Number of -6 is 0\n",
      "Number of -5 is 0\n",
      "Number of -4 is 0\n",
      "Number of -3 is 0\n",
      "Number of -2 is 0\n",
      "Number of -1 is 0\n",
      "Number of 0 is 309\n",
      "Number of 1 is 178\n"
     ]
    }
   ],
   "source": [
    "for i in range(-100, 2):\n",
    "    print('Number of', i, 'is', scores.count(i))"
   ]
  },
  {
   "cell_type": "code",
   "execution_count": null,
   "id": "89cf5e52",
   "metadata": {},
   "outputs": [],
   "source": []
  }
 ],
 "metadata": {
  "kernelspec": {
   "display_name": "Python 3 (ipykernel)",
   "language": "python",
   "name": "python3"
  },
  "language_info": {
   "codemirror_mode": {
    "name": "ipython",
    "version": 3
   },
   "file_extension": ".py",
   "mimetype": "text/x-python",
   "name": "python",
   "nbconvert_exporter": "python",
   "pygments_lexer": "ipython3",
   "version": "3.8.10"
  }
 },
 "nbformat": 4,
 "nbformat_minor": 5
}
